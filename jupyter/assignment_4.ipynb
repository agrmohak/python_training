{
 "cells": [
  {
   "cell_type": "code",
   "execution_count": 40,
   "metadata": {},
   "outputs": [],
   "source": [
    "def sum( *numbers ):\n",
    "    result = 0\n",
    "\n",
    "    print(f'{type(numbers)} = {numbers}')\n",
    "    for number in numbers:\n",
    "        result+= number\n",
    "    return result"
   ]
  },
  {
   "cell_type": "code",
   "execution_count": 43,
   "metadata": {},
   "outputs": [],
   "source": [
    "def average( *numbers ):\n",
    "    return sum(*numbers)/len(numbers)"
   ]
  },
  {
   "cell_type": "code",
   "execution_count": 44,
   "metadata": {},
   "outputs": [
    {
     "name": "stdout",
     "output_type": "stream",
     "text": [
      "1 2 3 4 5 6 7 8 9 10\n",
      "<class 'tuple'> = (1, 2, 3, 4, 5, 6, 7, 8, 9, 10)\n"
     ]
    },
    {
     "data": {
      "text/plain": [
       "5.5"
      ]
     },
     "execution_count": 44,
     "metadata": {},
     "output_type": "execute_result"
    }
   ],
   "source": [
    "average(1,2,3,4,5,6,7,8,9,10)"
   ]
  },
  {
   "cell_type": "code",
   "execution_count": 52,
   "metadata": {},
   "outputs": [],
   "source": [
    "def frequency_distribution(data):\n",
    "    dist = {}\n",
    "    for x in data:\n",
    "        if(dist.get(x)):\n",
    "            dist[x]+=1\n",
    "        else:\n",
    "            dist[x]=1\n",
    "    return dist\n",
    "\n",
    "\n"
   ]
  },
  {
   "cell_type": "code",
   "execution_count": 124,
   "metadata": {},
   "outputs": [],
   "source": [
    "def max(*args):\n",
    "    max = args[0]\n",
    "    for x in args:\n",
    "        if(x>max):\n",
    "            max = x\n",
    "\n",
    "    return max"
   ]
  },
  {
   "cell_type": "code",
   "execution_count": 152,
   "metadata": {},
   "outputs": [],
   "source": [
    "def plot_histogram(freq_dist, design = '+++ ', align=False, show_values = True):\n",
    "    max_align_spacing = 0\n",
    "    output = ''\n",
    "    if(align):\n",
    "        max_align_spacing = max(freq_dist.values())\n",
    "\n",
    "    for key, value in freq_dist.items():\n",
    "        output += f'{key} | {design * value}'\n",
    "\n",
    "        if(show_values):\n",
    "            output += f'{value}'.rjust((max_align_spacing-value)*len(design)+1) \n",
    "\n",
    "        output+='\\n'\n",
    "\n",
    "    return output"
   ]
  },
  {
   "cell_type": "code",
   "execution_count": 151,
   "metadata": {},
   "outputs": [
    {
     "name": "stdout",
     "output_type": "stream",
     "text": [
      "2 | xxxx xxxx xxxx xxxx xxxx xxxx \n",
      "9 | xxxx \n",
      "1 | xxxx xxxx xxxx \n",
      "4 | xxxx \n",
      "3 | xxxx \n",
      "\n"
     ]
    }
   ],
   "source": [
    "f_dist = frequency_distribution( [2,2,9,1,2,2,1,4,2,2,3,1]) \n",
    "\n",
    "print(plot_histogram(f_dist, align=True, show_values=False, design='xxxx '))"
   ]
  },
  {
   "cell_type": "code",
   "execution_count": 153,
   "metadata": {},
   "outputs": [],
   "source": [
    "def plot_histogram(freq_dist, **kwargs):\n",
    "    max_align_spacing = 0\n",
    "    output = ''\n",
    "    \n",
    "    align = False\n",
    "    show_values = True\n",
    "    design = '=== '\n",
    "\n",
    "    if (kwargs.get('show_values')):\n",
    "        show_values = kwargs['show_values']\n",
    "\n",
    "    if (kwargs.get('align')):\n",
    "        align = kwargs['align']\n",
    "\n",
    "    if (kwargs.get('design')):\n",
    "        design = kwargs['design']\n",
    "\n",
    "\n",
    "    if(align):\n",
    "        max_align_spacing = max(*freq_dist.values())\n",
    "\n",
    "    for key, value in freq_dist.items():\n",
    "        output += f'{key} | {design * value}'\n",
    "\n",
    "        if(show_values):\n",
    "            output += f'{value}'.rjust((max_align_spacing-value)*len(design)+1) \n",
    "\n",
    "        output+='\\n'\n",
    "\n",
    "    return output"
   ]
  },
  {
   "cell_type": "code",
   "execution_count": 155,
   "metadata": {},
   "outputs": [
    {
     "name": "stdout",
     "output_type": "stream",
     "text": [
      "2 | === === === === === === 6\n",
      "9 | ===                     1\n",
      "1 | === === ===             3\n",
      "4 | ===                     1\n",
      "3 | ===                     1\n",
      "\n"
     ]
    }
   ],
   "source": [
    "f_dist = frequency_distribution( [2,2,9,1,2,2,1,4,2,2,3,1]) \n",
    "\n",
    "print(plot_histogram(f_dist, align=True, design='=== '))"
   ]
  },
  {
   "cell_type": "code",
   "execution_count": 16,
   "metadata": {},
   "outputs": [],
   "source": [
    "def check_leap(year):\n",
    "    dr = 4 if year % 100 == 0 else 400\n",
    "    \n",
    "    if(year % dr == 0 ):\n",
    "        return True\n",
    "    return False"
   ]
  },
  {
   "cell_type": "code",
   "execution_count": 14,
   "metadata": {},
   "outputs": [
    {
     "data": {
      "text/plain": [
       "True"
      ]
     },
     "execution_count": 14,
     "metadata": {},
     "output_type": "execute_result"
    }
   ],
   "source": [
    "c"
   ]
  }
 ],
 "metadata": {
  "kernelspec": {
   "display_name": "Python 3",
   "language": "python",
   "name": "python3"
  },
  "language_info": {
   "codemirror_mode": {
    "name": "ipython",
    "version": 3
   },
   "file_extension": ".py",
   "mimetype": "text/x-python",
   "name": "python",
   "nbconvert_exporter": "python",
   "pygments_lexer": "ipython3",
   "version": "3.11.5"
  },
  "orig_nbformat": 4
 },
 "nbformat": 4,
 "nbformat_minor": 2
}
