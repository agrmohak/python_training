{
 "cells": [
  {
   "cell_type": "code",
   "execution_count": 48,
   "metadata": {},
   "outputs": [],
   "source": [
    "def members(obj):\n",
    "    return [member for member in dir(obj) if not member.startswith('__')]"
   ]
  },
  {
   "cell_type": "code",
   "execution_count": 40,
   "metadata": {},
   "outputs": [],
   "source": [
    "class Triangle:\n",
    "    def __init__(self, s1,s2,s3):\n",
    "        self.s1 = s1\n",
    "        self.s2 = s2\n",
    "        self.s3 = s3\n",
    "        \n",
    "    def perimeter(self):\n",
    "        if self.s1>0 and self.s2>0 and self.s3>0 and \\\n",
    "            self.s1 + self.s2 >self.s3 and \\\n",
    "            self.s1 + self.s3 > self.s2 and \\\n",
    "            self.s2 + self.s3 > self.s1:\n",
    "            return self.s1 + self.s2 + self.s3\n",
    "        return float('nan')\n",
    "    \n",
    "\n"
   ]
  },
  {
   "cell_type": "markdown",
   "metadata": {},
   "source": [
    "### Model for circle"
   ]
  },
  {
   "cell_type": "code",
   "execution_count": 36,
   "metadata": {},
   "outputs": [],
   "source": [
    "class Circle:\n",
    "    pass\n",
    "\n",
    "\n",
    "def create_circle(radius):\n",
    "    c = Circle()\n",
    "    if(radius > 0):\n",
    "        c.radius = radius\n",
    "        c.circumference = circumference(c)\n",
    "        c.area = area(c)\n",
    "        \n",
    "        return c\n",
    "    return float('nan')\n",
    "\n",
    "\n",
    "def circumference(c):\n",
    "    if(is_valid(c)):\n",
    "        return 2 * 22 * c.radius / 7\n",
    "    return float('nan')\n",
    "\n",
    "def area(c):\n",
    "    if(is_valid(c)):\n",
    "        return 22* c.radius * c.radius / 7\n",
    "    return float('nan')\n",
    "\n",
    "def is_valid(c):\n",
    "    return isinstance(c,Circle)\n",
    "\n",
    "def info(c):\n",
    "    return f'Circle <{c.radius}>\\nCircumference : {c.circumference}\\nArea : {c.area}'\n",
    "\n",
    "def draw(c):\n",
    "    print(info(c))\n",
    "\n",
    "\n",
    "def main():\n",
    "    a = create_circle(10)\n",
    "    draw(a)\n",
    "\n",
    "if __name__=='__main__':\n",
    "    main()"
   ]
  },
  {
   "cell_type": "markdown",
   "metadata": {},
   "source": [
    "### Model for bank account"
   ]
  },
  {
   "cell_type": "code",
   "execution_count": 27,
   "metadata": {},
   "outputs": [],
   "source": [
    "import random\n",
    "\n",
    "class BankAccount:\n",
    "    pass\n",
    "\n",
    "def create_bank_account(name, password, balance = 0, interest_rate = 8):\n",
    "    account = BankAccount()\n",
    "\n",
    "    account.account_number = random.randint(100000,999999)\n",
    "    account.name = name\n",
    "    account.password = password\n",
    "    account.balance = balance\n",
    "    account.interest_rate = interest_rate\n",
    "    \n",
    "\n",
    "    return account\n",
    "\n",
    "def check_password(account, password):\n",
    "    if account.password == password:\n",
    "        print('authentication Successful')\n",
    "    else:\n",
    "        print('Invalid password')\n",
    "        \n",
    "    return account.password == password\n",
    "\n",
    "def is_valid(account):\n",
    "    return isinstance(account, BankAccount)\n",
    "\n",
    "def valid_transaction_amount(amount):\n",
    "        if(amount < 0):\n",
    "            print(f'Invalid transaction amount. Please enter amount greater than 0')\n",
    "            return False\n",
    "        return True\n",
    "\n",
    "def show_transaction_message(account, amount, transac_type):\n",
    "    return f'{amount} has been {transac_type} successfully. New Balance : {account.balance}'\n",
    "\n",
    "def deposit(account, amount):\n",
    "    if(is_valid(account) and valid_transaction_amount(amount)):\n",
    "        account.balance += amount\n",
    "        print(show_transaction_message(account, amount,'deposit' ))\n",
    "    else: return float('nan')\n",
    "\n",
    "\n",
    "def withdraw(account, amount, password):\n",
    "    if(is_valid(account) and valid_transaction_amount(amount) and check_password(account, password)):\n",
    "\n",
    "        if(amount <= account.balance):\n",
    "            account.balance -= amount\n",
    "            print(show_transaction_message(account, amount,'withdrawn' ))\n",
    "        \n",
    "        else: print(f'you dont have sufficient funds.')\n",
    "    \n",
    "    else: return float('nan')\n",
    "        \n",
    "\n",
    "def credit_interest(account):\n",
    "    if(is_valid(account)):\n",
    "        interest = account.balance * account.interest_rate/1200\n",
    "        deposit(account, interest)\n",
    "\n",
    "\n",
    "def info(account):\n",
    "    return f'Account Number {account.account_number}\\nName : {account.name}\\nBalance : {account.balance}\\nIntrest Rate : {account.interest_rate}\\n'\n",
    "\n",
    "def display_info(account):\n",
    "    print(info(account))\n"
   ]
  },
  {
   "cell_type": "code",
   "execution_count": 28,
   "metadata": {},
   "outputs": [
    {
     "name": "stdout",
     "output_type": "stream",
     "text": [
      "5000 has been deposit successfully. New Balance : 10000\n",
      "Account Number 650981\n",
      "Name : abc\n",
      "Balance : 10000\n",
      "Intrest Rate : 10\n",
      "\n",
      "Account Number 650981\n",
      "Name : abc\n",
      "Balance : 10000\n",
      "Intrest Rate : 10\n",
      "\n"
     ]
    }
   ],
   "source": [
    "def main():\n",
    "    \n",
    "    a = create_bank_account('abc',123,5000, 10)\n",
    "    deposit(a, 5000)\n",
    "    display_info(a)\n",
    "\n",
    "    withdraw(a, 15000, 235)\n",
    "    display_info(a)\n",
    "\n",
    "\n",
    "if __name__ == '__main__':\n",
    "    main()"
   ]
  },
  {
   "cell_type": "code",
   "execution_count": 2,
   "metadata": {},
   "outputs": [
    {
     "name": "stdout",
     "output_type": "stream",
     "text": [
      "Circle <20>\n"
     ]
    }
   ],
   "source": [
    "class Circle:\n",
    "    def create(self, radius):\n",
    "            self.radius = radius\n",
    "    \n",
    "    def circumference(self): return 2 * 22 * self.radius / 7\n",
    "\n",
    "    def area(self): return 22* self.radius * self.radius / 7\n",
    "\n",
    "    def is_valid(self):\n",
    "        return isinstance(self,Circle)\n",
    "\n",
    "    def info(self):\n",
    "        return f'Circle <{self.radius}>'\n",
    "\n",
    "    def draw(self):\n",
    "        print(self.info())\n",
    "\n",
    "c = Circle()\n",
    "\n",
    "c.create(20)\n",
    "\n",
    "c.draw()"
   ]
  },
  {
   "cell_type": "markdown",
   "metadata": {},
   "source": []
  },
  {
   "cell_type": "markdown",
   "metadata": {},
   "source": []
  }
 ],
 "metadata": {
  "kernelspec": {
   "display_name": "Python 3",
   "language": "python",
   "name": "python3"
  },
  "language_info": {
   "codemirror_mode": {
    "name": "ipython",
    "version": 3
   },
   "file_extension": ".py",
   "mimetype": "text/x-python",
   "name": "python",
   "nbconvert_exporter": "python",
   "pygments_lexer": "ipython3",
   "version": "3.11.5"
  },
  "orig_nbformat": 4
 },
 "nbformat": 4,
 "nbformat_minor": 2
}
