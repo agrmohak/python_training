{
    "metadata": {
        "kernelspec": {
            "name": "SQL",
            "display_name": "SQL",
            "language": "sql"
        },
        "language_info": {
            "name": "sql",
            "version": ""
        }
    },
    "nbformat_minor": 2,
    "nbformat": 4,
    "cells": [
        {
            "cell_type": "code",
            "source": [
                "CREATE DATABASE books_db_new"
            ],
            "metadata": {
                "azdata_cell_guid": "31a65d65-79aa-40d3-a81f-5fd79eea2d56",
                "language": "sql"
            },
            "outputs": [
                {
                    "output_type": "display_data",
                    "data": {
                        "text/html": "Commands completed successfully."
                    },
                    "metadata": {}
                },
                {
                    "output_type": "display_data",
                    "data": {
                        "text/html": "Total execution time: 00:00:00.704"
                    },
                    "metadata": {}
                }
            ],
            "execution_count": 6
        },
        {
            "cell_type": "code",
            "source": [
                "use books_db_new"
            ],
            "metadata": {
                "language": "sql",
                "azdata_cell_guid": "a8e49f36-2553-400c-ad67-dd403fd05e28"
            },
            "outputs": [
                {
                    "output_type": "display_data",
                    "data": {
                        "text/html": "Commands completed successfully."
                    },
                    "metadata": {}
                },
                {
                    "output_type": "display_data",
                    "data": {
                        "text/html": "Total execution time: 00:00:00.252"
                    },
                    "metadata": {}
                }
            ],
            "execution_count": 7
        },
        {
            "cell_type": "code",
            "source": [
                "CREATE TABLE\r\n",
                "    AUTHORS(\r\n",
                "        ID INT IDENTITY PRIMARY KEY,\r\n",
                "        NAME VARCHAR(100) NOT NULL,\r\n",
                "        BIO VARCHAR(100)\r\n",
                "    )"
            ],
            "metadata": {
                "language": "sql",
                "azdata_cell_guid": "8b58b16d-dccb-49d6-b1cb-54c0f123ede7"
            },
            "outputs": [
                {
                    "output_type": "display_data",
                    "data": {
                        "text/html": "Commands completed successfully."
                    },
                    "metadata": {}
                },
                {
                    "output_type": "display_data",
                    "data": {
                        "text/html": "Total execution time: 00:00:00.022"
                    },
                    "metadata": {}
                }
            ],
            "execution_count": 8
        },
        {
            "cell_type": "code",
            "source": [
                "CREATE TABLE \r\n",
                "    BOOKS\r\n",
                "    (\r\n",
                "        ID INT IDENTITY PRIMARY KEY,\r\n",
                "        ISBN INT NOT NULL,\r\n",
                "        TITLE VARCHAR(100),\r\n",
                "        AUTHOR INT NOT NULL,\r\n",
                "        FOREIGN KEY (AUTHOR) REFERENCES AUTHORS(ID) ON DELETE CASCADE ON UPDATE CASCADE\r\n",
                "    )"
            ],
            "metadata": {
                "azdata_cell_guid": "194d99d9-2763-4351-9afb-42bbf48f00ca",
                "language": "sql",
                "tags": []
            },
            "outputs": [
                {
                    "output_type": "display_data",
                    "data": {
                        "text/html": "Commands completed successfully."
                    },
                    "metadata": {}
                },
                {
                    "output_type": "display_data",
                    "data": {
                        "text/html": "Total execution time: 00:00:00.073"
                    },
                    "metadata": {}
                }
            ],
            "execution_count": 10
        },
        {
            "cell_type": "code",
            "source": [
                "CREATE TABLE\r\n",
                "    USERS(\r\n",
                "        ID INT IDENTITY PRIMARY KEY,\r\n",
                "        NAME VARCHAR(100) NOT NULL,\r\n",
                "        EMAIL VARCHAR(100) NOT NULL,\r\n",
                "        PASSWORD VARCHAR(100) not NULL\r\n",
                "    )"
            ],
            "metadata": {
                "language": "sql",
                "azdata_cell_guid": "c6a71ea8-8734-49af-a26e-fa0178e3b051",
                "tags": []
            },
            "outputs": [
                {
                    "output_type": "display_data",
                    "data": {
                        "text/html": "Commands completed successfully."
                    },
                    "metadata": {}
                },
                {
                    "output_type": "display_data",
                    "data": {
                        "text/html": "Total execution time: 00:00:00.070"
                    },
                    "metadata": {}
                }
            ],
            "execution_count": 23
        },
        {
            "cell_type": "code",
            "source": [
                "CREATE TABLE\r\n",
                "    REVIEWS(\r\n",
                "        ID INT IDENTITY PRIMARY KEY,\r\n",
                "        REVIEWER_ID INT NOT NULL,\r\n",
                "        BOOK_ID INT NOT NULL,\r\n",
                "        DESCRIPTION VARCHAR(200),\r\n",
                "        RATING INT NOT NULL DEFAULT(3),\r\n",
                "        FOREIGN KEY (REVIEWER_ID) REFERENCES USERS(ID) ON DELETE CASCADE ON UPDATE CASCADE,\r\n",
                "        FOREIGN KEY (BOOK_ID) REFERENCES BOOKS(ID) ON DELETE CASCADE ON UPDATE CASCADE\r\n",
                "    )"
            ],
            "metadata": {
                "language": "sql",
                "azdata_cell_guid": "24006fa5-7f42-4b56-b7a0-f1de8c4f8e70",
                "tags": []
            },
            "outputs": [
                {
                    "output_type": "display_data",
                    "data": {
                        "text/html": "Commands completed successfully."
                    },
                    "metadata": {}
                },
                {
                    "output_type": "display_data",
                    "data": {
                        "text/html": "Total execution time: 00:00:00.080"
                    },
                    "metadata": {}
                }
            ],
            "execution_count": 12
        },
        {
            "cell_type": "code",
            "source": [
                "-- GET ALL AUTHORS\r\n",
                "SELECT * FROM AUTHORS;\r\n",
                "\r\n",
                "-- GET AUTHOR BY ID\r\n",
                "SELECT * FROM AUTHORS WHERE ID=?\r\n",
                "\r\n",
                "-- REMOVE AUTHOR\r\n",
                "DELETE FROM AUTHORS WHERE ID=?\r\n",
                ""
            ],
            "metadata": {
                "language": "sql",
                "azdata_cell_guid": "c5d85838-1c7e-406b-9188-e217cb38604d",
                "tags": []
            },
            "outputs": [
                {
                    "output_type": "error",
                    "evalue": "Msg 102, Level 15, State 1, Line 5\r\nIncorrect syntax near '?'.",
                    "ename": "",
                    "traceback": []
                },
                {
                    "output_type": "error",
                    "evalue": "Msg 102, Level 15, State 1, Line 8\r\nIncorrect syntax near '?'.",
                    "ename": "",
                    "traceback": []
                },
                {
                    "output_type": "display_data",
                    "data": {
                        "text/html": "Total execution time: 00:00:00.003"
                    },
                    "metadata": {}
                }
            ],
            "execution_count": 13
        },
        {
            "cell_type": "code",
            "source": [
                "-- GET ALL BOOKS\r\n",
                "SELECT * FROM BOOKS;\r\n",
                "\r\n",
                "-- GET BOOK BY ID\r\n",
                "SELECT * FROM BOOKS WHERE ID=?\r\n",
                "\r\n",
                "-- GET BOOKS BY AUTHOR\r\n",
                "SELECT * FROM BOOKS AS B JOIN AUTHORS AS A ON B.AUTHOR=A.ID WHERE A.ID=?\r\n",
                "\r\n",
                "-- GET BOOK REVIEWS\r\n",
                "SELECT * FROM REVIEWS AS R JOIN BOOKS AS B ON R.BOOK_ID=B.ID WHERE B.ID=?\r\n",
                "\r\n",
                "-- DELETE BOOK BY ID\r\n",
                "DELETE FROM BOOKS WHERE ID=?\r\n",
                "\r\n",
                "\r\n",
                "\r\n",
                ""
            ],
            "metadata": {
                "language": "sql",
                "azdata_cell_guid": "ca056ce9-c763-4d26-a0f3-1a4b0225fd6f",
                "tags": []
            },
            "outputs": [],
            "execution_count": null
        },
        {
            "cell_type": "code",
            "source": [
                "SELECT * FROM REVIEWS AS R WHERE R.REVIEWS_ID = ?\r\n",
                ""
            ],
            "metadata": {
                "language": "sql",
                "azdata_cell_guid": "b7718e73-55f2-4496-b3bb-3c932d56d2d1",
                "tags": []
            },
            "outputs": [],
            "execution_count": null
        },
        {
            "cell_type": "code",
            "source": [
                "CREATE PROCEDURE "
            ],
            "metadata": {
                "language": "sql",
                "azdata_cell_guid": "9094ac89-59f5-4c78-abed-6c3a46539057"
            },
            "outputs": [],
            "execution_count": null
        }
    ]
}