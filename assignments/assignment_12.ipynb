{
 "cells": [
  {
   "cell_type": "code",
   "execution_count": 6,
   "metadata": {},
   "outputs": [],
   "source": [
    "import time\n",
    "def performance_log(fn):\n",
    "    def inner(*args, **kwargs):\n",
    "        print(fn,args,kwargs, 'Performance log')\n",
    "        start = time.time()\n",
    "        res = fn(*args, **kwargs)\n",
    "        end = time.time()\n",
    "        inner.time_taken = end - start\n",
    "        return res\n",
    "    return inner\n",
    "    \n",
    "def cached(fn):\n",
    "    cached_data = {}\n",
    "    def inner(*args, **kwargs):\n",
    "        if(args[0] in cached_data):\n",
    "            print('Cached data')\n",
    "            return cached_data[args[0]]\n",
    "        else:\n",
    "            print('new data')\n",
    "            res = fn(*args, **kwargs)\n",
    "            cached_data[args[0]] = res\n",
    "            return res\n",
    "    return inner\n",
    "\n",
    "@cached\n",
    "@performance_log\n",
    "def factorial(n):\n",
    "    res = 1\n",
    "    for i in range(1,n+1):\n",
    "        res *= i\n",
    "    return res\n",
    "\n",
    "\n"
   ]
  },
  {
   "cell_type": "code",
   "execution_count": 7,
   "metadata": {},
   "outputs": [
    {
     "name": "stdout",
     "output_type": "stream",
     "text": [
      "new data\n",
      "<function factorial at 0x0000013C23198720> (5,) {} Performance log\n"
     ]
    },
    {
     "data": {
      "text/plain": [
       "120"
      ]
     },
     "execution_count": 7,
     "metadata": {},
     "output_type": "execute_result"
    }
   ],
   "source": [
    "factorial(5)"
   ]
  },
  {
   "cell_type": "code",
   "execution_count": 8,
   "metadata": {},
   "outputs": [
    {
     "name": "stdout",
     "output_type": "stream",
     "text": [
      "Cached data\n"
     ]
    },
    {
     "data": {
      "text/plain": [
       "120"
      ]
     },
     "execution_count": 8,
     "metadata": {},
     "output_type": "execute_result"
    }
   ],
   "source": [
    "factorial(5)"
   ]
  },
  {
   "cell_type": "code",
   "execution_count": 9,
   "metadata": {},
   "outputs": [
    {
     "name": "stdout",
     "output_type": "stream",
     "text": [
      "new data\n",
      "<function factorial at 0x0000013C23198720> (6,) {} Performance log\n"
     ]
    },
    {
     "data": {
      "text/plain": [
       "720"
      ]
     },
     "execution_count": 9,
     "metadata": {},
     "output_type": "execute_result"
    }
   ],
   "source": [
    "factorial(6)"
   ]
  },
  {
   "cell_type": "code",
   "execution_count": 10,
   "metadata": {},
   "outputs": [
    {
     "name": "stdout",
     "output_type": "stream",
     "text": [
      "Cached data\n"
     ]
    },
    {
     "data": {
      "text/plain": [
       "720"
      ]
     },
     "execution_count": 10,
     "metadata": {},
     "output_type": "execute_result"
    }
   ],
   "source": [
    "factorial(6)"
   ]
  },
  {
   "cell_type": "code",
   "execution_count": 17,
   "metadata": {},
   "outputs": [],
   "source": [
    "def supress_exception( *args, exception, result, **kwargs):\n",
    "    def decorator(func):\n",
    "        def inner(*fn_arg, **fn_kwarg):\n",
    "            print(fn_arg,fn_kwarg)\n",
    "            try:\n",
    "                res = func(*fn_arg, **fn_kwarg)\n",
    "                return res\n",
    "            except exception:\n",
    "                return result\n",
    "            except Exception as ex:\n",
    "                raise ex\n",
    "                # print(ex)\n",
    "        return inner\n",
    "    return decorator\n",
    "\n",
    "\n",
    "\n",
    " \n",
    "users = {'a':123, 'b':1234}\n",
    "@supress_exception(exception = KeyError, result = False)\n",
    "def authenticate(user,password):\n",
    "    print(f'Authenticating {user}')\n",
    "    return users[user] == password\n",
    "\n",
    "\n"
   ]
  },
  {
   "cell_type": "code",
   "execution_count": 21,
   "metadata": {},
   "outputs": [
    {
     "name": "stdout",
     "output_type": "stream",
     "text": [
      "('b', 1234) {}\n",
      "Authenticating b\n"
     ]
    },
    {
     "data": {
      "text/plain": [
       "True"
      ]
     },
     "execution_count": 21,
     "metadata": {},
     "output_type": "execute_result"
    }
   ],
   "source": [
    "authenticate('b',1234)"
   ]
  }
 ],
 "metadata": {
  "kernelspec": {
   "display_name": "Python 3",
   "language": "python",
   "name": "python3"
  },
  "language_info": {
   "codemirror_mode": {
    "name": "ipython",
    "version": 3
   },
   "file_extension": ".py",
   "mimetype": "text/x-python",
   "name": "python",
   "nbconvert_exporter": "python",
   "pygments_lexer": "ipython3",
   "version": "3.11.5"
  },
  "orig_nbformat": 4
 },
 "nbformat": 4,
 "nbformat_minor": 2
}
