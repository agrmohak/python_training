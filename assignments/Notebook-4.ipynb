{
    "metadata": {
        "kernelspec": {
            "name": "SQL",
            "display_name": "SQL",
            "language": "sql"
        },
        "language_info": {
            "name": "sql",
            "version": ""
        }
    },
    "nbformat_minor": 2,
    "nbformat": 4,
    "cells": [
        {
            "cell_type": "code",
            "source": [
                "USE master;\r\n",
                "-- DROP DATABASE ecolab_books_db\r\n",
                "-- USE ecolab_books_db;\r\n",
                "-- drop table BOOKS;\r\n",
                "-- drop table REVIEWS;\r\n",
                "-- DROP TABLE REVIEWRS;\r\n",
                "-- DROP TABLE PUBLISHER;"
            ],
            "metadata": {
                "language": "sql",
                "azdata_cell_guid": "1a824ae5-7330-4c89-82d8-3d26b4a1c87d",
                "tags": []
            },
            "outputs": [
                {
                    "output_type": "display_data",
                    "data": {
                        "text/html": "Commands completed successfully."
                    },
                    "metadata": {}
                },
                {
                    "output_type": "display_data",
                    "data": {
                        "text/html": "Total execution time: 00:00:00"
                    },
                    "metadata": {}
                }
            ],
            "execution_count": 34
        },
        {
            "cell_type": "code",
            "source": [
                "create database books_db;\r\n",
                "-- use books_db;"
            ],
            "metadata": {
                "language": "sql",
                "azdata_cell_guid": "6a2c282f-e517-49bf-8a01-7d3ae01db2f1"
            },
            "outputs": [
                {
                    "output_type": "display_data",
                    "data": {
                        "text/html": "Commands completed successfully."
                    },
                    "metadata": {}
                },
                {
                    "output_type": "display_data",
                    "data": {
                        "text/html": "Total execution time: 00:00:00.663"
                    },
                    "metadata": {}
                }
            ],
            "execution_count": 40
        },
        {
            "cell_type": "code",
            "source": [
                "drop database ecolab_books_db"
            ],
            "metadata": {
                "language": "sql",
                "azdata_cell_guid": "9bc34a40-4f07-407d-8446-a9049e17d11d"
            },
            "outputs": [
                {
                    "output_type": "error",
                    "evalue": "Msg 3702, Level 16, State 4, Line 1\r\nCannot drop database \"ecolab_books_db\" because it is currently in use.",
                    "ename": "",
                    "traceback": []
                },
                {
                    "output_type": "display_data",
                    "data": {
                        "text/html": "Total execution time: 00:00:20.014"
                    },
                    "metadata": {}
                }
            ],
            "execution_count": 49
        },
        {
            "cell_type": "code",
            "source": [
                "CREATE TABLE\r\n",
                "    PUBLISHER(\r\n",
                "        ID INT IDENTITY PRIMARY KEY,\r\n",
                "        P_NAME VARCHAR(100) NOT NULL,\r\n",
                "        P_ADDRESS VARCHAR(100) NOT NULL,\r\n",
                "        WEBSITE VARCHAR(100)\r\n",
                "    )"
            ],
            "metadata": {
                "language": "sql",
                "azdata_cell_guid": "a1db71b8-2afb-4205-a404-b5cc2d60d725"
            },
            "outputs": [
                {
                    "output_type": "display_data",
                    "data": {
                        "text/html": "Commands completed successfully."
                    },
                    "metadata": {}
                },
                {
                    "output_type": "display_data",
                    "data": {
                        "text/html": "Total execution time: 00:00:00.012"
                    },
                    "metadata": {}
                }
            ],
            "execution_count": 42
        },
        {
            "cell_type": "code",
            "source": [
                "CREATE TABLE \r\n",
                "    ISBN\r\n",
                "    (\r\n",
                "        ID INT IDENTITY PRIMARY KEY,\r\n",
                "        BOOK_FORMAT VARCHAR(20),\r\n",
                "        PRICE FLOAT,\r\n",
                "        COVER VARCHAR(100),\r\n",
                "        PUBLISHER_ID INT NOT NULL,\r\n",
                "        FOREIGN KEY (PUBLISHER_ID) REFERENCES PUBLISHER(ID) ON DELETE CASCADE ON UPDATE CASCADE\r\n",
                "    )"
            ],
            "metadata": {
                "language": "sql",
                "azdata_cell_guid": "c1d28e0d-da22-4486-b8db-6e91525ab5a0"
            },
            "outputs": [
                {
                    "output_type": "display_data",
                    "data": {
                        "text/html": "Commands completed successfully."
                    },
                    "metadata": {}
                },
                {
                    "output_type": "display_data",
                    "data": {
                        "text/html": "Total execution time: 00:00:00.005"
                    },
                    "metadata": {}
                }
            ],
            "execution_count": 43
        },
        {
            "cell_type": "code",
            "source": [
                "CREATE TABLE\r\n",
                "    AUTHOR\r\n",
                "    (\r\n",
                "        ID INT IDENTITY PRIMARY KEY,\r\n",
                "        AUTHOR_PHOTO VARCHAR(150),\r\n",
                "        NAME VARCHAR(100) NOT NULL,\r\n",
                "        BIO VARCHAR(100)\r\n",
                "    )"
            ],
            "metadata": {
                "language": "sql",
                "azdata_cell_guid": "1e1cbb59-79a8-4ff9-8ea9-52e7d6511b94"
            },
            "outputs": [],
            "execution_count": null
        },
        {
            "cell_type": "code",
            "source": [
                "CREATE TABLE \r\n",
                "    BOOK\r\n",
                "    (\r\n",
                "        ID INT IDENTITY PRIMARY KEY,\r\n",
                "        ISBN INT NOT NULL,\r\n",
                "        TITLE VARCHAR(100),\r\n",
                "        AUTHOR INT NOT NULL,\r\n",
                "        FOREIGN KEY (ISBN) REFERENCES ISBN(ID) ON DELETE CASCADE ON UPDATE CASCADE,\r\n",
                "        FOREIGN KEY (AUTHOR) REFERENCES AUTHOR(ID) ON DELETE CASCADE ON UPDATE CASCADE\r\n",
                "    )"
            ],
            "metadata": {
                "azdata_cell_guid": "68ca82d9-4d4f-401a-a0c7-42669d6e5d99",
                "language": "sql"
            },
            "outputs": [
                {
                    "output_type": "error",
                    "evalue": "Msg 1767, Level 16, State 0, Line 1\r\nForeign key 'FK__BOOK__AUTHOR__5DCAEF64' references invalid table 'AUTHOR'.",
                    "ename": "",
                    "traceback": []
                },
                {
                    "output_type": "error",
                    "evalue": "Msg 1750, Level 16, State 1, Line 1\r\nCould not create constraint or index. See previous errors.",
                    "ename": "",
                    "traceback": []
                },
                {
                    "output_type": "display_data",
                    "data": {
                        "text/html": "Total execution time: 00:00:00.003"
                    },
                    "metadata": {}
                }
            ],
            "execution_count": 51
        },
        {
            "cell_type": "code",
            "source": [
                "CREATE TABLE\r\n",
                "    REVIEWER(\r\n",
                "        ID INT IDENTITY PRIMARY KEY,\r\n",
                "        R_NAME VARCHAR(100) NOT NULL,\r\n",
                "        R_EMAIL VARCHAR(100) NOT NULL\r\n",
                "    )"
            ],
            "metadata": {
                "language": "sql",
                "azdata_cell_guid": "5045a679-104d-4fef-a67e-d196e78d004b"
            },
            "outputs": [
                {
                    "output_type": "display_data",
                    "data": {
                        "text/html": "Commands completed successfully."
                    },
                    "metadata": {}
                },
                {
                    "output_type": "display_data",
                    "data": {
                        "text/html": "Total execution time: 00:00:00.005"
                    },
                    "metadata": {}
                }
            ],
            "execution_count": 45
        },
        {
            "cell_type": "code",
            "source": [
                "CREATE TABLE\r\n",
                "    REVIEWS(\r\n",
                "        ID INT IDENTITY PRIMARY KEY,\r\n",
                "        REVIEWER_ID INT NOT NULL,\r\n",
                "        ISBN INT NOT NULL,\r\n",
                "        TITLE VARCHAR(100) NOT NULL,\r\n",
                "        DETAILS VARCHAR(200) NOT NULL,\r\n",
                "        RATING INT NOT NULL DEFAULT(3),\r\n",
                "        FOREIGN KEY (REVIEWER_ID) REFERENCES REVIEWER(ID) ON DELETE CASCADE ON UPDATE CASCADE,\r\n",
                "        FOREIGN KEY (ISBN) REFERENCES ISBN(ID) ON DELETE CASCADE ON UPDATE CASCADE\r\n",
                "    )"
            ],
            "metadata": {
                "language": "sql",
                "azdata_cell_guid": "0998b8a6-71e9-4074-a777-fdf9f481c827"
            },
            "outputs": [
                {
                    "output_type": "display_data",
                    "data": {
                        "text/html": "Commands completed successfully."
                    },
                    "metadata": {}
                },
                {
                    "output_type": "display_data",
                    "data": {
                        "text/html": "Total execution time: 00:00:00.006"
                    },
                    "metadata": {}
                }
            ],
            "execution_count": 47
        },
        {
            "cell_type": "code",
            "source": [
                "CREATE PROCEDURE ADD_PUBLISHER\r\n",
                "    @NAME AS VARCHAR(100),\r\n",
                "    @ADDRESS AS VARCHAR(100),\r\n",
                "    @WEBSITE AS VARCHAR(100)\r\n",
                "AS\r\n",
                "    INSERT INTO\r\n",
                "        PUBLISHER(P_NAME, P_ADDRESS, WEBSITE)\r\n",
                "    VALUES(@NAME, @ADDRESS, @WEBSITE)\r\n",
                "GO\r\n",
                ""
            ],
            "metadata": {
                "language": "sql",
                "azdata_cell_guid": "cd6fbfbe-8bd0-4387-8d68-00ea4916f38b",
                "tags": [
                    "hide_input"
                ]
            },
            "outputs": [
                {
                    "output_type": "display_data",
                    "data": {
                        "text/html": "Commands completed successfully."
                    },
                    "metadata": {}
                },
                {
                    "output_type": "display_data",
                    "data": {
                        "text/html": "Total execution time: 00:00:00.081"
                    },
                    "metadata": {}
                }
            ],
            "execution_count": 13
        },
        {
            "cell_type": "code",
            "source": [
                "CREATE PROCEDURE ADD_BOOK\r\n",
                "    @ISBN INT,\r\n",
                "    @BOOK_FORMAT VARCHAR(20),\r\n",
                "    @PRICE FLOAT,\r\n",
                "    @COVER VARCHAR(100),\r\n",
                "    @PUBLISHER_ID INT,\r\n",
                "AS\r\n",
                "    INSERT INTO\r\n",
                "        BOOK(ISBN, BOOK_FORMAT, PRICE, COVER, PUBLISHER_ID)\r\n",
                "    VALUES(@NAME, @ADDRESS, @WEBSITE)\r\n",
                "GO\r\n",
                ""
            ],
            "metadata": {
                "language": "sql",
                "azdata_cell_guid": "3a750adb-2f1d-4fd6-8e70-67afb703bd1c"
            },
            "outputs": [],
            "execution_count": null
        }
    ]
}