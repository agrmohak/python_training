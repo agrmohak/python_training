{
 "cells": [
  {
   "cell_type": "code",
   "execution_count": 1,
   "metadata": {},
   "outputs": [],
   "source": [
    "import time\n",
    "class performance_log:\n",
    "    def __init__(self, fn):\n",
    "        self.fn = fn\n",
    "        self.start = 0\n",
    "        self.end = 0\n",
    "    def __call__(self, *args, **kwargs):\n",
    "        self.start = time.time()\n",
    "        res = self.fn(*args,**kwargs)\n",
    "        self.end = time.time()\n",
    "        return self\n",
    "    \n",
    "    @property\n",
    "    def time_taken(self):\n",
    "        return self.end - self.start"
   ]
  },
  {
   "cell_type": "code",
   "execution_count": 2,
   "metadata": {},
   "outputs": [],
   "source": [
    "def is_prime(n):\n",
    "    if n<2:\n",
    "        return False\n",
    "    for x in range(2,n):\n",
    "        if n%x==0:\n",
    "            return False\n",
    "    return True\n",
    "@performance_log\n",
    "def find_primes(min,max):\n",
    "    primes=[]\n",
    "    for x in range(min,max):\n",
    "        if is_prime(x):\n",
    "            primes.append(x)\n",
    "    return primes"
   ]
  },
  {
   "cell_type": "code",
   "execution_count": 3,
   "metadata": {},
   "outputs": [],
   "source": [
    "x = find_primes(2,10000)"
   ]
  },
  {
   "cell_type": "code",
   "execution_count": 4,
   "metadata": {},
   "outputs": [
    {
     "ename": "TypeError",
     "evalue": "__str__ returned non-string (type list)",
     "output_type": "error",
     "traceback": [
      "\u001b[1;31m---------------------------------------------------------------------------\u001b[0m",
      "\u001b[1;31mTypeError\u001b[0m                                 Traceback (most recent call last)",
      "\u001b[1;32mc:\\Training\\python_Training\\assignments\\assignment_11.ipynb Cell 4\u001b[0m line \u001b[0;36m1\n\u001b[1;32m----> <a href='vscode-notebook-cell:/c%3A/Training/python_Training/assignments/assignment_11.ipynb#X12sZmlsZQ%3D%3D?line=0'>1</a>\u001b[0m \u001b[39mprint\u001b[39;49m(x)\n",
      "\u001b[1;31mTypeError\u001b[0m: __str__ returned non-string (type list)"
     ]
    }
   ],
   "source": [
    "print(x)"
   ]
  },
  {
   "cell_type": "code",
   "execution_count": 8,
   "metadata": {},
   "outputs": [
    {
     "data": {
      "text/plain": [
       "0.23131871223449707"
      ]
     },
     "execution_count": 8,
     "metadata": {},
     "output_type": "execute_result"
    }
   ],
   "source": [
    "x.time_taken"
   ]
  },
  {
   "cell_type": "code",
   "execution_count": 9,
   "metadata": {},
   "outputs": [
    {
     "ename": "AttributeError",
     "evalue": "'list' object has no attribute 'time_taken'",
     "output_type": "error",
     "traceback": [
      "\u001b[1;31m---------------------------------------------------------------------------\u001b[0m",
      "\u001b[1;31mAttributeError\u001b[0m                            Traceback (most recent call last)",
      "\u001b[1;32mUntitled-1.ipynb Cell 4\u001b[0m line \u001b[0;36m1\n\u001b[1;32m----> <a href='vscode-notebook-cell:Untitled-1.ipynb?jupyter-notebook#W6sdW50aXRsZWQ%3D?line=0'>1</a>\u001b[0m x\u001b[39m.\u001b[39;49mtime_taken\n",
      "\u001b[1;31mAttributeError\u001b[0m: 'list' object has no attribute 'time_taken'"
     ]
    }
   ],
   "source": [
    "print(x)"
   ]
  },
  {
   "cell_type": "code",
   "execution_count": 8,
   "metadata": {},
   "outputs": [],
   "source": [
    "import time\n",
    "class Timer:\n",
    "    def __init__(self):\n",
    "        self.start = 0\n",
    "        self.end = 0\n",
    "\n",
    "    def __enter__(self):\n",
    "        self.start = time.time()\n",
    "        return self\n",
    "\n",
    "    def __exit__(self, t, e, s):\n",
    "        self.end = time.time()\n",
    "        return self\n",
    "\n",
    "    @property\n",
    "    def time_taken(self):\n",
    "        return self.end - self.start"
   ]
  },
  {
   "cell_type": "code",
   "execution_count": 5,
   "metadata": {},
   "outputs": [],
   "source": [
    "def is_prime(n):\n",
    "    if n<2:\n",
    "        return False\n",
    "    for x in range(2,n):\n",
    "        if n%x==0:\n",
    "            return False\n",
    "    return True\n",
    "\n",
    "def find_primes(min,max):\n",
    "    primes=[]\n",
    "    for x in range(min,max):\n",
    "        if is_prime(x):\n",
    "            primes.append(x)\n",
    "    return primes"
   ]
  },
  {
   "cell_type": "code",
   "execution_count": 10,
   "metadata": {},
   "outputs": [
    {
     "name": "stdout",
     "output_type": "stream",
     "text": [
      "<__main__.Timer object at 0x000001EB77FCF190>\n",
      "65.57264542579651\n"
     ]
    }
   ],
   "source": [
    "with Timer() as t:\n",
    "    find_primes(2,200000)\n",
    "\n",
    "print(t)\n",
    "print(t.time_taken)"
   ]
  },
  {
   "cell_type": "code",
   "execution_count": null,
   "metadata": {},
   "outputs": [],
   "source": []
  }
 ],
 "metadata": {
  "kernelspec": {
   "display_name": "Python 3",
   "language": "python",
   "name": "python3"
  },
  "language_info": {
   "codemirror_mode": {
    "name": "ipython",
    "version": 3
   },
   "file_extension": ".py",
   "mimetype": "text/x-python",
   "name": "python",
   "nbconvert_exporter": "python",
   "pygments_lexer": "ipython3",
   "version": "3.11.5"
  },
  "orig_nbformat": 4
 },
 "nbformat": 4,
 "nbformat_minor": 2
}
