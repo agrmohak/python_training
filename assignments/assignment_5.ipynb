{
 "cells": [
  {
   "cell_type": "code",
   "execution_count": 48,
   "metadata": {},
   "outputs": [],
   "source": [
    "def members(obj):\n",
    "    return [member for member in dir(obj) if not member.startswith('__')]"
   ]
  },
  {
   "cell_type": "code",
   "execution_count": 40,
   "metadata": {},
   "outputs": [],
   "source": [
    "class Triangle:\n",
    "    def __init__(self, s1,s2,s3):\n",
    "        self.s1 = s1\n",
    "        self.s2 = s2\n",
    "        self.s3 = s3\n",
    "        \n",
    "    def perimeter(self):\n",
    "        if self.s1>0 and self.s2>0 and self.s3>0 and \\\n",
    "            self.s1 + self.s2 >self.s3 and \\\n",
    "            self.s1 + self.s3 > self.s2 and \\\n",
    "            self.s2 + self.s3 > self.s1:\n",
    "            return self.s1 + self.s2 + self.s3\n",
    "        return float('nan')\n",
    "    \n",
    "\n"
   ]
  },
  {
   "cell_type": "markdown",
   "metadata": {},
   "source": [
    "### Model for circle"
   ]
  },
  {
   "cell_type": "code",
   "execution_count": 3,
   "metadata": {},
   "outputs": [
    {
     "name": "stdout",
     "output_type": "stream",
     "text": [
      "Circle <10>\n",
      "Circumference : 62.857142857142854\n",
      "Area : 314.2857142857143\n"
     ]
    }
   ],
   "source": [
    "class Circle:\n",
    "    pass\n",
    "\n",
    "\n",
    "def create_circle(radius):\n",
    "    c = Circle()\n",
    "    if(radius > 0):\n",
    "        c.radius = radius\n",
    "        c.circumference = circumference(c)\n",
    "        c.area = area(c)\n",
    "        \n",
    "        return c\n",
    "    return float('nan')\n",
    "\n",
    "\n",
    "def circumference(c):\n",
    "    if(is_valid(c)):\n",
    "        return 2 * 22 * c.radius / 7\n",
    "    return float('nan')\n",
    "\n",
    "def area(c):\n",
    "    if(is_valid(c)):\n",
    "        return 22* c.radius * c.radius / 7\n",
    "    return float('nan')\n",
    "\n",
    "def is_valid(c):\n",
    "    return isinstance(c,Circle)\n",
    "\n",
    "def info(c):\n",
    "    return f'Circle <{c.radius}>\\nCircumference : {c.circumference}\\nArea : {c.area}'\n",
    "\n",
    "def draw(c):\n",
    "    print(info(c))\n",
    "\n",
    "\n",
    "def main():\n",
    "    a = create_circle(10)\n",
    "    draw(a)\n",
    "\n",
    "if __name__=='__main__':\n",
    "    main()"
   ]
  },
  {
   "cell_type": "markdown",
   "metadata": {},
   "source": [
    "### Model for bank account"
   ]
  },
  {
   "cell_type": "code",
   "execution_count": 27,
   "metadata": {},
   "outputs": [],
   "source": [
    "import random\n",
    "\n",
    "class BankAccount:\n",
    "    pass\n",
    "\n",
    "def create_bank_account(name, password, balance = 0, interest_rate = 8):\n",
    "    account = BankAccount()\n",
    "\n",
    "    account.account_number = random.randint(100000,999999)\n",
    "    account.name = name\n",
    "    account.password = password\n",
    "    account.balance = balance\n",
    "    account.interest_rate = interest_rate\n",
    "    \n",
    "\n",
    "    return account\n",
    "\n",
    "def check_password(account, password):\n",
    "    if account.password == password:\n",
    "        print('authentication Successful')\n",
    "    else:\n",
    "        print('Invalid password')\n",
    "        \n",
    "    return account.password == password\n",
    "\n",
    "def is_valid(account):\n",
    "    return isinstance(account, BankAccount)\n",
    "\n",
    "def valid_transaction_amount(amount):\n",
    "        if(amount < 0):\n",
    "            print(f'Invalid transaction amount. Please enter amount greater than 0')\n",
    "            return False\n",
    "        return True\n",
    "\n",
    "def show_transaction_message(account, amount, transac_type):\n",
    "    return f'{amount} has been {transac_type} successfully. New Balance : {account.balance}'\n",
    "\n",
    "def deposit(account, amount):\n",
    "    if(is_valid(account) and valid_transaction_amount(amount)):\n",
    "        account.balance += amount\n",
    "        print(show_transaction_message(account, amount,'deposit' ))\n",
    "    else: return float('nan')\n",
    "\n",
    "\n",
    "def withdraw(account, amount, password):\n",
    "    if(is_valid(account) and valid_transaction_amount(amount) and check_password(account, password)):\n",
    "\n",
    "        if(amount <= account.balance):\n",
    "            account.balance -= amount\n",
    "            print(show_transaction_message(account, amount,'withdrawn' ))\n",
    "        \n",
    "        else: print(f'you dont have sufficient funds.')\n",
    "    \n",
    "    else: return float('nan')\n",
    "        \n",
    "\n",
    "def credit_interest(account):\n",
    "    if(is_valid(account)):\n",
    "        interest = account.balance * account.interest_rate/1200\n",
    "        deposit(account, interest)\n",
    "\n",
    "\n",
    "def info(account):\n",
    "    return f'Account Number {account.account_number}\\nName : {account.name}\\nBalance : {account.balance}\\nIntrest Rate : {account.interest_rate}\\n'\n",
    "\n",
    "def display_info(account):\n",
    "    print(info(account))\n"
   ]
  },
  {
   "cell_type": "code",
   "execution_count": 28,
   "metadata": {},
   "outputs": [
    {
     "name": "stdout",
     "output_type": "stream",
     "text": [
      "5000 has been deposit successfully. New Balance : 10000\n",
      "Account Number 650981\n",
      "Name : abc\n",
      "Balance : 10000\n",
      "Intrest Rate : 10\n",
      "\n",
      "Account Number 650981\n",
      "Name : abc\n",
      "Balance : 10000\n",
      "Intrest Rate : 10\n",
      "\n"
     ]
    }
   ],
   "source": [
    "def main():\n",
    "    \n",
    "    a = create_bank_account('abc',123,5000, 10)\n",
    "    deposit(a, 5000)\n",
    "    display_info(a)\n",
    "\n",
    "    withdraw(a, 15000, 235)\n",
    "    display_info(a)\n",
    "\n",
    "\n",
    "if __name__ == '__main__':\n",
    "    main()"
   ]
  },
  {
   "cell_type": "code",
   "execution_count": 2,
   "metadata": {},
   "outputs": [
    {
     "name": "stdout",
     "output_type": "stream",
     "text": [
      "Circle <20>\n"
     ]
    }
   ],
   "source": [
    "class Circle:\n",
    "    def create(self, radius):\n",
    "            self.radius = radius\n",
    "    \n",
    "    def circumference(self): return 2 * 22 * self.radius / 7\n",
    "\n",
    "    def area(self): return 22* self.radius * self.radius / 7\n",
    "\n",
    "    def is_valid(self):\n",
    "        return isinstance(self,Circle)\n",
    "\n",
    "    def info(self):\n",
    "        return f'Circle <{self.radius}>'\n",
    "\n",
    "    def draw(self):\n",
    "        print(self.info())\n",
    "\n",
    "c = Circle()\n",
    "\n",
    "c.create(20)\n",
    "\n",
    "c.draw()"
   ]
  },
  {
   "cell_type": "markdown",
   "metadata": {},
   "source": []
  },
  {
   "cell_type": "code",
   "execution_count": 11,
   "metadata": {},
   "outputs": [],
   "source": [
    "class BankAccount:\n",
    "    def __init__(self, ac_n,name, password,balance,interest_rate  ):\n",
    "        self.account_number = ac_n\n",
    "        self.name = name\n",
    "        self.password = password\n",
    "        self.balance = balance\n",
    "        self.interest_rate = interest_rate\n",
    "        \n",
    "    \n",
    "    # def transact(self,amount, ):\n",
    "    def check_password(self, password):\n",
    "        if self.password != password:\n",
    "            print('Invalid password')\n",
    "        \n",
    "        return True\n",
    "    def valid_transaction_amount(self, amount):\n",
    "        if(amount < 0):\n",
    "            print(f'Invalid transaction amount. Please enter amount greater than 0')\n",
    "            return False\n",
    "        \n",
    "        return True\n",
    "    def show_transaction_message(self, amount, transac_type):\n",
    "        return f'{amount} has been {transac_type} successfully. Remaining Balance : {self.balance}'\n",
    "    \n",
    "    def deposit(self, amount):\n",
    "        if(self.valid_transaction_amount(amount)):\n",
    "            self.balance += amount\n",
    "            print(self.show_transaction_message(amount,'deposit' ))\n",
    "\n",
    "    def withdraw(self, amount):\n",
    "        if self.valid_transaction_amount(amount) :\n",
    "            if amount <= self.balance:\n",
    "                self.balance -= amount\n",
    "                print(self.show_transaction_message(amount,'withdrawn' ))\n",
    "                return \n",
    "            print('You dont have sufficient funds')\n",
    "            \n",
    "\n",
    "    def credit_interest(self):\n",
    "        interest = self.balance * self.interest_rate/1200\n",
    "        self.deposit(interest)\n",
    "    \n",
    "    def get_info(self):\n",
    "        return f'Account Number {self.account_number}\\nName : {self.name}\\nBalance : {self.balance}\\nIntrest Rate : {self.interest_rate}'\n",
    "    \n",
    "    def display_info(self):\n",
    "        print(self.get_info())"
   ]
  },
  {
   "cell_type": "code",
   "execution_count": 12,
   "metadata": {},
   "outputs": [],
   "source": [
    "a = BankAccount(123,'abc',123,5000, 10)"
   ]
  },
  {
   "cell_type": "code",
   "execution_count": 13,
   "metadata": {},
   "outputs": [
    {
     "name": "stdout",
     "output_type": "stream",
     "text": [
      "5000 has been deposit successfully. Remaining Balance : 10000\n",
      "Account Number 123\n",
      "Name : abc\n",
      "Balance : 10000\n",
      "Intrest Rate : 10\n"
     ]
    },
    {
     "ename": "Exception",
     "evalue": "You dont have sufficient funds",
     "output_type": "error",
     "traceback": [
      "\u001b[1;31m---------------------------------------------------------------------------\u001b[0m",
      "\u001b[1;31mException\u001b[0m                                 Traceback (most recent call last)",
      "\u001b[1;32mc:\\Training\\python_Training\\jupyter\\assignment_5.ipynb Cell 10\u001b[0m line \u001b[0;36m4\n\u001b[0;32m      <a href='vscode-notebook-cell:/c%3A/Training/python_Training/jupyter/assignment_5.ipynb#X14sZmlsZQ%3D%3D?line=0'>1</a>\u001b[0m a\u001b[39m.\u001b[39mdeposit(\u001b[39m5000\u001b[39m)\n\u001b[0;32m      <a href='vscode-notebook-cell:/c%3A/Training/python_Training/jupyter/assignment_5.ipynb#X14sZmlsZQ%3D%3D?line=1'>2</a>\u001b[0m a\u001b[39m.\u001b[39mdisplay_info()\n\u001b[1;32m----> <a href='vscode-notebook-cell:/c%3A/Training/python_Training/jupyter/assignment_5.ipynb#X14sZmlsZQ%3D%3D?line=3'>4</a>\u001b[0m a\u001b[39m.\u001b[39;49mwithdraw(\u001b[39m15000\u001b[39;49m)\n\u001b[0;32m      <a href='vscode-notebook-cell:/c%3A/Training/python_Training/jupyter/assignment_5.ipynb#X14sZmlsZQ%3D%3D?line=4'>5</a>\u001b[0m a\u001b[39m.\u001b[39mdisplay_info()\n",
      "\u001b[1;32mc:\\Training\\python_Training\\jupyter\\assignment_5.ipynb Cell 10\u001b[0m line \u001b[0;36m2\n\u001b[0;32m     <a href='vscode-notebook-cell:/c%3A/Training/python_Training/jupyter/assignment_5.ipynb#X14sZmlsZQ%3D%3D?line=26'>27</a>\u001b[0m     \u001b[39mprint\u001b[39m(\u001b[39mself\u001b[39m\u001b[39m.\u001b[39mshow_transaction_message(amount,\u001b[39m'\u001b[39m\u001b[39mwithdrawn\u001b[39m\u001b[39m'\u001b[39m ))\n\u001b[0;32m     <a href='vscode-notebook-cell:/c%3A/Training/python_Training/jupyter/assignment_5.ipynb#X14sZmlsZQ%3D%3D?line=27'>28</a>\u001b[0m     \u001b[39mreturn\u001b[39;00m \n\u001b[1;32m---> <a href='vscode-notebook-cell:/c%3A/Training/python_Training/jupyter/assignment_5.ipynb#X14sZmlsZQ%3D%3D?line=28'>29</a>\u001b[0m \u001b[39mraise\u001b[39;00m \u001b[39mException\u001b[39;00m(\u001b[39m'\u001b[39m\u001b[39mYou dont have sufficient funds\u001b[39m\u001b[39m'\u001b[39m)\n",
      "\u001b[1;31mException\u001b[0m: You dont have sufficient funds"
     ]
    }
   ],
   "source": [
    "a.deposit(5000)\n",
    "a.display_info()\n",
    "\n",
    "a.withdraw(15000)\n",
    "a.display_info()"
   ]
  },
  {
   "cell_type": "code",
   "execution_count": 43,
   "metadata": {},
   "outputs": [
    {
     "data": {
      "text/plain": [
       "True"
      ]
     },
     "execution_count": 43,
     "metadata": {},
     "output_type": "execute_result"
    }
   ],
   "source": [
    "class Shape:\n",
    "    pass\n",
    "\n",
    "class Triangle(Shape):\n",
    "    pass\n",
    "\n",
    "\n",
    "type(Triangle())==Shape\n",
    "\n",
    "isinstance(Triangle(), Triangle)"
   ]
  },
  {
   "cell_type": "code",
   "execution_count": 49,
   "metadata": {},
   "outputs": [
    {
     "name": "stdout",
     "output_type": "stream",
     "text": [
      "Overwriting triangle.py\n"
     ]
    }
   ],
   "source": [
    "\n",
    "%%file triangle.py\n",
    "\n",
    "# Would write the below contents to file\n",
    "\n",
    "print('hello world')"
   ]
  },
  {
   "cell_type": "markdown",
   "metadata": {},
   "source": []
  }
 ],
 "metadata": {
  "kernelspec": {
   "display_name": "Python 3",
   "language": "python",
   "name": "python3"
  },
  "language_info": {
   "codemirror_mode": {
    "name": "ipython",
    "version": 3
   },
   "file_extension": ".py",
   "mimetype": "text/x-python",
   "name": "python",
   "nbconvert_exporter": "python",
   "pygments_lexer": "ipython3",
   "version": "3.11.5"
  },
  "orig_nbformat": 4
 },
 "nbformat": 4,
 "nbformat_minor": 2
}
