{
 "cells": [
  {
   "cell_type": "code",
   "execution_count": 8,
   "metadata": {},
   "outputs": [
    {
     "name": "stdout",
     "output_type": "stream",
     "text": [
      "11\n",
      "13\n",
      "17\n"
     ]
    }
   ],
   "source": [
    "from math import sqrt\n",
    "\n",
    "def check_prime(num):\n",
    "    if(num==1):\n",
    "        return False\n",
    "    for x in range(2,int(sqrt(num))+1):\n",
    "        if(num%x==0):\n",
    "            return False\n",
    "    return True\n",
    "\n",
    "class PrimeNumberIterator:\n",
    "    def __init__(self, start, end=None):\n",
    "        if end == None:\n",
    "            start = 1\n",
    "            end = start\n",
    "        self.x = start\n",
    "        self.y = end\n",
    "\n",
    "    def __iter__(self):\n",
    "        self.n = self.x -1\n",
    "        while self.n < self.y - 1:\n",
    "            self.n+=1\n",
    "            if check_prime(self.n):\n",
    "                yield self.n\n",
    "\n",
    "a = iter(PrimeNumberIterator(10,19))\n",
    "for x in a:\n",
    "    print(x)\n"
   ]
  },
  {
   "cell_type": "code",
   "execution_count": 2,
   "metadata": {},
   "outputs": [
    {
     "data": {
      "text/plain": [
       "False"
      ]
     },
     "execution_count": 2,
     "metadata": {},
     "output_type": "execute_result"
    }
   ],
   "source": [
    "check_prime(4)"
   ]
  },
  {
   "cell_type": "code",
   "execution_count": 3,
   "metadata": {},
   "outputs": [
    {
     "name": "stdout",
     "output_type": "stream",
     "text": [
      "2 3 5 7 11 13 17 19 23 29 31 37 41 43 47 53 59 61 67 71 73 79 83 89 97 101 103 107 109 113 127 131 137 139 149 151 157 163 167 173 179 181 191 193 197 199 211 223 227 229 233 239 241 251 257 263 269 271 277 281 283 293 307 311 313 317 331 337 347 349 353 359 367 373 379 383 389 397 401 409 419 421 431 433 439 443 449 457 461 463 467 479 487 491 499 503 509 521 523 541 547 557 563 569 571 577 587 593 599 601 607 613 617 619 631 641 643 647 653 659 661 673 677 683 691 701 709 719 727 733 739 743 751 757 761 769 773 787 797 809 811 821 823 827 829 839 853 857 859 863 877 881 883 887 907 911 919 929 937 941 947 953 967 971 977 983 991 997 "
     ]
    }
   ],
   "source": [
    "class PrimeIter: \n",
    "    def __init__(self, m): \n",
    "       self.y = m\n",
    "\n",
    "    def __iter__(self):\n",
    "       self.n = 1\n",
    "       return self\n",
    "\n",
    "    def __next__(self):\n",
    "        if self.n < self.y:\n",
    "           self.n += 1\n",
    "           i = 2\n",
    "           while i < (self.n//2+1):\n",
    "                if self.n % i == 0:\n",
    "                   self.n = self.n+1\n",
    "                   if self.n > self.y:\n",
    "                       raise StopIteration\n",
    "                   i = 1\n",
    "                i += 1\n",
    "           else:\n",
    "                return self.n\n",
    "        else:\n",
    "            raise StopIteration\n",
    "\n",
    "p = PrimeIter (1000)        \n",
    "for i in p:\n",
    "    print(i, y=' ')"
   ]
  },
  {
   "cell_type": "code",
   "execution_count": null,
   "metadata": {},
   "outputs": [],
   "source": []
  }
 ],
 "metadata": {
  "kernelspec": {
   "display_name": "Python 3",
   "language": "python",
   "name": "python3"
  },
  "language_info": {
   "codemirror_mode": {
    "name": "ipython",
    "version": 3
   },
   "file_extension": ".py",
   "mimetype": "text/x-python",
   "name": "python",
   "nbconvert_exporter": "python",
   "pygments_lexer": "ipython3",
   "version": "3.11.5"
  },
  "orig_nbformat": 4
 },
 "nbformat": 4,
 "nbformat_minor": 2
}
