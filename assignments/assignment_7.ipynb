{
 "cells": [
  {
   "cell_type": "code",
   "execution_count": 119,
   "metadata": {},
   "outputs": [],
   "source": [
    "class BankAccount:\n",
    "    def __init__(self, account_number, name, password, balance, account_type):\n",
    "        self._id = account_number\n",
    "        self._name = name\n",
    "        self._balance = balance\n",
    "        self._password = password\n",
    "        self._account_type = account_type\n",
    "        self._interest_rate = 8\n",
    "\n",
    "    def check_balance(self):\n",
    "        return self._balance\n",
    "    \n",
    "    def withdraw(self, amount):\n",
    "        if(amount > 0 and amount < self._balance):\n",
    "            self._balance -= amount\n",
    "            return True\n",
    "        return False\n",
    "    \n",
    "    def deposit(self, amount):\n",
    "        if(amount > 0):\n",
    "            self._balance += amount\n",
    "        \n",
    "\n",
    "    def credit_interest(self):\n",
    "        print(self._interest_rate)\n",
    "        interest = self._balance * self._interest_rate/1200\n",
    "        self.deposit(interest)\n",
    "\n",
    "    def get_info(self):\n",
    "        return f'{self._name} {self._balance}'\n",
    "\n",
    "class SavingsAccount(BankAccount):\n",
    "    def __init__(self, account_number, name, password, balance, min_balance=5000):\n",
    "        super().__init__(account_number, name, password, balance, account_type='SAVING')\n",
    "        self._interest_rate = 12\n",
    "        self._min_balance = min_balance\n",
    "    \n",
    "    def credit_interest(self):\n",
    "        return super().credit_interest()\n",
    "    \n",
    "    \n",
    "\n",
    "class CurrentAccount(BankAccount):\n",
    "    def __init__(self, account_number, name, password, balance):\n",
    "        super().__init__(account_number, name, password, balance, account_type='CURRENT')\n",
    "        self._interest_rate = 0\n",
    "        self._min_balance = 0\n",
    "    \n",
    "class OverDraftAccount(BankAccount):\n",
    "    def __init__(self, account_number, name, password, balance):\n",
    "        super().__init__(account_number, name, password, balance, account_type='OVERDRAFT')\n",
    "        self._interest_rate = 8\n",
    "        self._max_balance = 0\n",
    "        self._od_limit = 0\n",
    "        self._od_fee_interest = 1\n",
    "\n",
    "\n",
    "    def get_od_limit(self):\n",
    "        limit = self._max_balance / 10\n",
    "        return limit\n",
    "    \n",
    "    def maximum_withdrawal_amout(self):\n",
    "        return self._balance + self.get_od_limit()\n",
    "    \n",
    "    def calculate_od_fee(self, amount):\n",
    "        return (amount - self._balance)/100\n",
    "    \n",
    "    def credit_interest(self):\n",
    "        return super().credit_interest()\n",
    "    \n",
    "    def withdraw(self, amount):\n",
    "        return super().withdraw(amount)\n",
    "\n",
    "\n",
    "\n",
    "class Bank:\n",
    "    def __init__(self):\n",
    "        self._accounts = []\n",
    "        self._last_id = 1\n",
    "\n",
    "    def is_valid_account(self, account):\n",
    "        return isinstance(account, BankAccount)\n",
    "\n",
    "    def create_account(self, name,password, balance = 0,min_balance = 5000 ):\n",
    "        account = SavingsAccount(self._last_id, name, password, balance, min_balance)\n",
    "        self._accounts.append(account)\n",
    "        self._last_id += 1\n",
    "        return account\n",
    "\n",
    "    def authenticate(self, account, password):\n",
    "        if self.is_valid_account(account):\n",
    "            return account._password == password\n",
    "        return None\n",
    "    \n",
    "    def get_account(self, account_number):\n",
    "        for account in self._accounts:\n",
    "            if account._id == account_number:\n",
    "                return account\n",
    "        return None\n",
    "    \n",
    "    def delete_account(self, account_number):\n",
    "        for index, account in enumerate(self._accounts):\n",
    "            if(account._id == account_number):\n",
    "                self._accounts.pop(index)\n",
    "\n",
    "    def transfer_money(self, from_account, to_account, amount):\n",
    "        if not self.is_valid_account(from_account) or not self.is_valid_account(to_account): \n",
    "            return 'Invalid account object'\n",
    "        if from_account.withdraw(amount):\n",
    "            to_account.deposit(amount)\n",
    "        else:\n",
    "            return 'Insufficient Funds'\n",
    "    \n",
    "    def info_all_accounts(self):\n",
    "        for account in self._accounts:\n",
    "            print(f'Number : {account._id}\\t Name: {account._name}\\t Balance {account._balance}')\n",
    "    \n",
    "    def deposit(self, account, amount):\n",
    "        account.deposit(amount)\n",
    "\n",
    "    def withdraw(self, account, amount):\n",
    "        account.withdraw(amount)\n",
    "\n",
    "    def credit_interest_all(self):\n",
    "        for account in self._accounts:\n",
    "            account.credit_interest()\n",
    "\n",
    "class ATM: \n",
    "\n",
    "    def find_account(self, Bank, account_number):\n",
    "        Bank.get_account(account_number)\n",
    "    \n",
    "\n",
    "\n",
    "    def check_balance(self, Bank: Bank):\n",
    "        account_number = int(input('Enter Account Number'))\n",
    "        account = Bank.get_account(account_number)\n",
    "\n",
    "        if account :\n",
    "            password = input('Enter password')\n",
    "            if(account._password == password):\n",
    "                print(f'Available balance : {account._balance}')\n",
    "            else:\n",
    "                print('Invalid password')\n",
    "        else:\n",
    "            print('Account does not exist')\n",
    "    \n"
   ]
  },
  {
   "cell_type": "code",
   "execution_count": 120,
   "metadata": {},
   "outputs": [],
   "source": [
    "hdfc = Bank()\n",
    "union = Bank()"
   ]
  },
  {
   "cell_type": "code",
   "execution_count": 121,
   "metadata": {},
   "outputs": [],
   "source": [
    "account1 = union.create_account('Mohak', 'pass1', 52198)\n",
    "account2 = hdfc.create_account('Ritesh', 'pass2',10000)\n",
    "account3 = hdfc.create_account('Pradumn', 'pass3',52198 )\n",
    "\n"
   ]
  },
  {
   "cell_type": "code",
   "execution_count": 122,
   "metadata": {},
   "outputs": [
    {
     "name": "stdout",
     "output_type": "stream",
     "text": [
      "Number : 1\t Name: Ritesh\t Balance 10000\n",
      "Number : 2\t Name: Pradumn\t Balance 52198\n",
      "Number : 1\t Name: Mohak\t Balance 52198\n"
     ]
    }
   ],
   "source": [
    "hdfc.info_all_accounts()\n",
    "union.info_all_accounts()"
   ]
  },
  {
   "cell_type": "code",
   "execution_count": 123,
   "metadata": {},
   "outputs": [],
   "source": [
    "hdfc.transfer_money(account1, account2, 10000)\n",
    "union.transfer_money(account1, account3, 10000)\n"
   ]
  },
  {
   "cell_type": "code",
   "execution_count": 124,
   "metadata": {},
   "outputs": [
    {
     "name": "stdout",
     "output_type": "stream",
     "text": [
      "12\n",
      "12\n"
     ]
    }
   ],
   "source": [
    "hdfc.credit_interest_all()"
   ]
  },
  {
   "cell_type": "code",
   "execution_count": 125,
   "metadata": {},
   "outputs": [
    {
     "name": "stdout",
     "output_type": "stream",
     "text": [
      "Number : 1\t Name: Mohak\t Balance 32198\n",
      "Number : 1\t Name: Ritesh\t Balance 20200.0\n",
      "Number : 2\t Name: Pradumn\t Balance 62819.98\n"
     ]
    }
   ],
   "source": [
    "union.info_all_accounts()\n",
    "hdfc.info_all_accounts()"
   ]
  },
  {
   "cell_type": "code",
   "execution_count": 64,
   "metadata": {},
   "outputs": [
    {
     "data": {
      "text/plain": [
       "'Mohak 12198'"
      ]
     },
     "execution_count": 64,
     "metadata": {},
     "output_type": "execute_result"
    }
   ],
   "source": [
    "account1.get_info()"
   ]
  },
  {
   "cell_type": "code",
   "execution_count": null,
   "metadata": {},
   "outputs": [],
   "source": []
  }
 ],
 "metadata": {
  "kernelspec": {
   "display_name": "Python 3",
   "language": "python",
   "name": "python3"
  },
  "language_info": {
   "codemirror_mode": {
    "name": "ipython",
    "version": 3
   },
   "file_extension": ".py",
   "mimetype": "text/x-python",
   "name": "python",
   "nbconvert_exporter": "python",
   "pygments_lexer": "ipython3",
   "version": "3.11.5"
  },
  "orig_nbformat": 4
 },
 "nbformat": 4,
 "nbformat_minor": 2
}
