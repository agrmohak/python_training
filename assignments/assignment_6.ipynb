{
 "cells": [
  {
   "cell_type": "code",
   "execution_count": 130,
   "metadata": {},
   "outputs": [],
   "source": [
    "class Node:\n",
    "    def __init__(self, data=None):\n",
    "        self.data = data\n",
    "        self.next = None \n",
    "\n",
    "\n",
    "class LinkedList:\n",
    "    def __init__(self):\n",
    "        self.head = None\n",
    "        self.tail = None\n",
    "        self.len = 0\n",
    "\n",
    "    def append(self, value):\n",
    "        new_node = Node(value)\n",
    "        if self.head == None and self.tail==None:\n",
    "            self.head = new_node\n",
    "\n",
    "        elif self.head == self.tail:\n",
    "            self.head.next = new_node\n",
    "\n",
    "        else:\n",
    "            self.tail.next = new_node\n",
    "\n",
    "        self.tail = new_node\n",
    "        self.len += 1\n",
    "\n",
    "\n",
    "    def insert(self, data, pos):\n",
    "        new_node = Node(data)\n",
    "        node = self.head if pos==0 else self.get(pos-1)\n",
    "\n",
    "        if node:\n",
    "            new_node.next = node.next\n",
    "            node.next = new_node\n",
    "            self.len += 1\n",
    "        \n",
    "    def get_value(self, pos):\n",
    "        data = self.get(pos)\n",
    "        if(data):\n",
    "            return data.data\n",
    "        \n",
    "    def get(self, pos):\n",
    "        temp = self.head\n",
    "        count = 0\n",
    "        while temp != None:\n",
    "            if(count==pos):\n",
    "                return temp\n",
    "            count+=1\n",
    "            temp = temp.next\n",
    "        return Node(None)\n",
    "\n",
    "    def set_value(self, data, pos):\n",
    "        node = self.get(pos)\n",
    "        if(isinstance(node, Node)):\n",
    "            node.data = data\n",
    "\n",
    "\n",
    "    def size(self):\n",
    "        temp = self.head\n",
    "        count = 0\n",
    "        while temp != None:\n",
    "            temp = temp.next\n",
    "            count+=1\n",
    "        return count \n",
    "\n",
    "    def print_list(self):\n",
    "        temp = self.head\n",
    "        while temp != None:\n",
    "            print(temp.data, end=' ')\n",
    "            temp = temp.next\n",
    "        print()\n",
    "\n",
    "    def info(self):\n",
    "        print('List elements : ', end='')\n",
    "        self.print_list()\n",
    "        print(f'\\nSize {self.len}')\n",
    "\n",
    "    def remove(self, pos):\n",
    "        temp = self.head\n",
    "        deleted_node = None\n",
    "        count = 0\n",
    "        if(pos == 0):\n",
    "            deleted_node = self.head\n",
    "            self.head = self.head.next\n",
    "\n",
    "        elif pos<self.len:\n",
    "\n",
    "            while temp != None:\n",
    "                if count==pos-1:\n",
    "                    deleted_node = temp.next\n",
    "                    if temp.next.next != None:\n",
    "                        temp.next = temp.next.next\n",
    "                        break\n",
    "                    \n",
    "                    else:\n",
    "                        temp.next = None\n",
    "                        break\n",
    "\n",
    "                count+=1\n",
    "                temp = temp.next\n",
    "\n",
    "        if(deleted_node != None):\n",
    "            self.len -= 1\n",
    "\n",
    "        return deleted_node\n",
    "        \n",
    "    \n",
    "    def clear(self):\n",
    "        temp = self.head\n",
    "        while temp != None:\n",
    "            self.remove(0)\n",
    "            temp = temp.next\n"
   ]
  },
  {
   "cell_type": "code",
   "execution_count": 131,
   "metadata": {},
   "outputs": [
    {
     "name": "stdout",
     "output_type": "stream",
     "text": [
      "<class 'NoneType'>\n",
      "<class '__main__.Node'>\n",
      "<__main__.Node object at 0x0000021B149AC090>\n"
     ]
    }
   ],
   "source": [
    "a = LinkedList()\n",
    "\n",
    "\n",
    "\n",
    "a.append(10)\n",
    "a.append(20)\n",
    "a.append(30)\n"
   ]
  },
  {
   "cell_type": "code",
   "execution_count": 117,
   "metadata": {},
   "outputs": [
    {
     "data": {
      "text/plain": [
       "3"
      ]
     },
     "execution_count": 117,
     "metadata": {},
     "output_type": "execute_result"
    }
   ],
   "source": [
    "a.size()"
   ]
  },
  {
   "cell_type": "code",
   "execution_count": 118,
   "metadata": {},
   "outputs": [
    {
     "name": "stdout",
     "output_type": "stream",
     "text": [
      "List elements : 10 20 30 \n",
      "Size 3\n"
     ]
    }
   ],
   "source": [
    "a.info()"
   ]
  },
  {
   "cell_type": "code",
   "execution_count": 119,
   "metadata": {},
   "outputs": [
    {
     "data": {
      "text/plain": [
       "10"
      ]
     },
     "execution_count": 119,
     "metadata": {},
     "output_type": "execute_result"
    }
   ],
   "source": [
    "a.get_value(0)"
   ]
  },
  {
   "cell_type": "markdown",
   "metadata": {},
   "source": []
  },
  {
   "cell_type": "code",
   "execution_count": 120,
   "metadata": {},
   "outputs": [
    {
     "name": "stdout",
     "output_type": "stream",
     "text": [
      "List elements : 10 50 30 \n",
      "Size 3\n"
     ]
    }
   ],
   "source": [
    "a.set_value(50, 1)\n",
    "a.info()"
   ]
  },
  {
   "cell_type": "code",
   "execution_count": 121,
   "metadata": {},
   "outputs": [
    {
     "data": {
      "text/plain": [
       "50"
      ]
     },
     "execution_count": 121,
     "metadata": {},
     "output_type": "execute_result"
    }
   ],
   "source": [
    "a.get_value(1)"
   ]
  },
  {
   "cell_type": "code",
   "execution_count": 122,
   "metadata": {},
   "outputs": [],
   "source": [
    "a.insert(13,2)"
   ]
  },
  {
   "cell_type": "code",
   "execution_count": 123,
   "metadata": {},
   "outputs": [
    {
     "name": "stdout",
     "output_type": "stream",
     "text": [
      "List elements : 10 50 13 30 \n",
      "Size 4\n"
     ]
    }
   ],
   "source": [
    "a.info()"
   ]
  },
  {
   "cell_type": "code",
   "execution_count": 124,
   "metadata": {},
   "outputs": [
    {
     "name": "stdout",
     "output_type": "stream",
     "text": [
      "List elements : 50 13 30 \n",
      "Size 3\n"
     ]
    }
   ],
   "source": [
    "a.remove(0)\n",
    "a.info()"
   ]
  },
  {
   "cell_type": "code",
   "execution_count": 133,
   "metadata": {},
   "outputs": [
    {
     "name": "stdout",
     "output_type": "stream",
     "text": [
      "List elements : \n",
      "Size 0\n"
     ]
    }
   ],
   "source": [
    "a.clear()\n",
    "a.info()"
   ]
  },
  {
   "cell_type": "code",
   "execution_count": 134,
   "metadata": {},
   "outputs": [
    {
     "data": {
      "text/plain": [
       "0"
      ]
     },
     "execution_count": 134,
     "metadata": {},
     "output_type": "execute_result"
    }
   ],
   "source": [
    "a.len"
   ]
  },
  {
   "cell_type": "code",
   "execution_count": null,
   "metadata": {},
   "outputs": [],
   "source": [
    "class Node:\n",
    "    def __init__(self, data=None):\n",
    "        self.data = data\n",
    "        self.next = None \n",
    "        self.prev = None\n",
    "\n",
    "class DoublyLinkedList:\n",
    "    def __init__(self):\n",
    "        self.head = None\n",
    "        self.tail = None\n",
    "        self.len = 0\n",
    "\n",
    "    def append(self, value):\n",
    "        new_node = Node(value)\n",
    "        if self.head == None and self.tail==None:\n",
    "            self.head = new_node\n",
    "\n",
    "        elif self.head == self.tail:\n",
    "            self.head.next = new_node\n",
    "\n",
    "        else:\n",
    "            new_node.prev = self.tail \n",
    "            self.tail.next = new_node\n",
    "            \n",
    "\n",
    "        self.tail = new_node\n",
    "        self.len += 1\n",
    "\n",
    "\n",
    "    def insert(self, data, pos):\n",
    "        new_node = Node(data)\n",
    "        node = self.head if pos==0 else self.get(pos-1)\n",
    "\n",
    "        if node:\n",
    "            new_node.next = node.next\n",
    "            new_node.prev = node\n",
    "            node.next = new_node\n",
    "            self.len += 1\n",
    "        \n",
    "    def get_value(self, pos):\n",
    "        data = self.get(pos)\n",
    "        if(data):\n",
    "            return data.data\n",
    "        \n",
    "    def get(self, pos):\n",
    "        temp = self.head\n",
    "        count = 0\n",
    "        while temp != None:\n",
    "            if(count==pos):\n",
    "                return temp\n",
    "            count+=1\n",
    "            temp = temp.next\n",
    "        return Node(None)\n",
    "\n",
    "    def set_value(self, data, pos):\n",
    "        node = self.get(pos)\n",
    "        if(isinstance(node, Node)):\n",
    "            node.data = data\n",
    "\n",
    "\n",
    "    def size(self):\n",
    "        temp = self.head\n",
    "        count = 0\n",
    "        while temp != None:\n",
    "            temp = temp.next\n",
    "            count+=1\n",
    "        return count \n",
    "\n",
    "    def print_list(self):\n",
    "        temp = self.head\n",
    "        while temp != None:\n",
    "            print(temp.data, end=' ')\n",
    "            temp = temp.next\n",
    "        print()\n",
    "\n",
    "    def info(self):\n",
    "        print('List elements : ', end='')\n",
    "        self.print_list()\n",
    "        print(f'\\nSize {self.len}')\n",
    "\n",
    "    def remove(self, pos):\n",
    "        temp = self.head\n",
    "        deleted_node = None\n",
    "        count = 0\n",
    "        if(pos == 0):\n",
    "            deleted_node = self.head\n",
    "            self.head = self.head.next\n",
    "\n",
    "        elif pos<self.len:\n",
    "\n",
    "            while temp != None:\n",
    "                if count==pos-1:\n",
    "                    deleted_node = temp.next\n",
    "                    if temp.next.next != None:\n",
    "                        temp.next = temp.next.next\n",
    "                        break\n",
    "                    \n",
    "                    else:\n",
    "                        temp.next = None\n",
    "                        break\n",
    "\n",
    "                count+=1\n",
    "                temp = temp.next\n",
    "\n",
    "        if(deleted_node != None):\n",
    "            self.len -= 1\n",
    "\n",
    "        return deleted_node\n",
    "        \n",
    "    \n",
    "    def clear(self):\n",
    "        temp = self.head\n",
    "        while temp != None:\n",
    "            self.remove(0)\n",
    "            temp = temp.ne"
   ]
  },
  {
   "cell_type": "code",
   "execution_count": null,
   "metadata": {},
   "outputs": [],
   "source": []
  }
 ],
 "metadata": {
  "kernelspec": {
   "display_name": "Python 3",
   "language": "python",
   "name": "python3"
  },
  "language_info": {
   "codemirror_mode": {
    "name": "ipython",
    "version": 3
   },
   "file_extension": ".py",
   "mimetype": "text/x-python",
   "name": "python",
   "nbconvert_exporter": "python",
   "pygments_lexer": "ipython3",
   "version": "3.11.5"
  },
  "orig_nbformat": 4
 },
 "nbformat": 4,
 "nbformat_minor": 2
}
