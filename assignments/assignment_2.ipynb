{
 "cells": [
  {
   "cell_type": "markdown",
   "metadata": {},
   "source": [
    "### Frequecy distribution"
   ]
  },
  {
   "cell_type": "code",
   "execution_count": 233,
   "metadata": {},
   "outputs": [
    {
     "data": {
      "text/plain": [
       "{2: 6, 9: 1, 1: 3, 0: 6, 4: 1, 3: 1}"
      ]
     },
     "execution_count": 233,
     "metadata": {},
     "output_type": "execute_result"
    }
   ],
   "source": [
    "## Frequency Distribution\n",
    "\n",
    "def frequency_distribution(data):\n",
    "    dist = {}\n",
    "    for x in data:\n",
    "        if(dist.get(x)):\n",
    "            dist[x]+=1\n",
    "        else:\n",
    "            dist[x]=1\n",
    "    return dist\n",
    "\n",
    "\n",
    "frequency_distribution( [2,2,9,1,0,0,0,0,0,0,2,2,1,4,2,2,3,1]) "
   ]
  },
  {
   "cell_type": "markdown",
   "metadata": {},
   "source": [
    "### Histogram for frequency distribution"
   ]
  },
  {
   "cell_type": "code",
   "execution_count": 210,
   "metadata": {},
   "outputs": [
    {
     "name": "stdout",
     "output_type": "stream",
     "text": [
      "2 | ============ 6\n",
      "9 | == 1\n",
      "1 | ====== 3\n",
      "4 | == 1\n",
      "3 | == 1\n"
     ]
    }
   ],
   "source": [
    "\n",
    "def print_histogram(freq_dist):\n",
    "    design = '=='\n",
    "    for key, value in freq_dist.items():\n",
    "        print(f'{key} | {design * value} {value}')\n",
    "\n",
    "f_dist = frequency_distribution( [2,2,9,1,2,2,1,4,2,2,3,1]) \n",
    "\n",
    "print_histogram(f_dist)"
   ]
  },
  {
   "cell_type": "markdown",
   "metadata": {},
   "source": [
    "### Week day for a given date"
   ]
  },
  {
   "cell_type": "code",
   "execution_count": 1,
   "metadata": {},
   "outputs": [],
   "source": [
    "def check_leap_year(year):\n",
    "    return year % 400==0 or (year%4==0 and year % 100!=0) \n",
    "\n",
    "\n",
    "def days_in_month(month,year):\n",
    "    if month==2:\n",
    "        return 28 + int(check_leap_year(year))\n",
    "    \n",
    "    elif(month<8 and month%2!=0) or (month>=8 and month%2==0):\n",
    "        return 31\n",
    "    else:\n",
    "        return 30\n",
    "        \n",
    "\n",
    "def get_week_day_name(index):\n",
    "    if(index == 0): return 'Sunday'\n",
    "    if(index == 1): return 'Monday'\n",
    "    if(index == 2): return 'Tuesday'\n",
    "    if(index == 3): return 'Wednesday'\n",
    "    if(index == 4): return 'Thursday'\n",
    "    if(index == 5): return 'Friday'\n",
    "    if(index == 6): return 'Saturday'\n",
    "    return ''\n",
    "\n",
    "\n",
    "def date_value(day,month,year):\n",
    "    days_elapsed = 0\n",
    "    y = year - 1\n",
    "    days_elapsed = y*365 + y//4 - y//100 + y//400\n",
    "\n",
    "    m = 1\n",
    "    while(m<month):\n",
    "        days_elapsed += days_in_month(m, year)\n",
    "        m+=1\n",
    "    days_elapsed +=day\n",
    "\n",
    "    return days_elapsed\n",
    "\n",
    "\n",
    "def extra_days(dd,mm,yy):\n",
    "    ref_date = date_value(1,1,1978)\n",
    "    inpUt_date = date_value(dd,mm,yy)\n",
    "    diff =  (inpUt_date - ref_date)%7\n",
    "    return diff\n",
    "\n",
    "# def week_day_name(diff):\n",
    "#     return get_week_day_name(diff)\n",
    "\n",
    "def print_month_calendar(mm,yy):\n",
    "    start_day =  extra_days(1,mm,yy)\n",
    "    month_days = days_in_month(mm,yy) \n",
    "    i = 1\n",
    "    print('|',end='')\n",
    "    for x in range(7):\n",
    "        print(get_week_day_name(x)[0:3],end='\\t|')\n",
    "    print()\n",
    "    while i < month_days:\n",
    "        print('|', end='')\n",
    "        for col in range(7):\n",
    "            if i==1 and col< start_day:\n",
    "                print('\\t',end='')\n",
    "            elif(i<=month_days):\n",
    "                print(f'{str(i)}\\t', end='')\n",
    "                i+=1\n",
    "            print('|',end='')\n",
    "        print()\n",
    "    "
   ]
  },
  {
   "cell_type": "code",
   "execution_count": 2,
   "metadata": {},
   "outputs": [
    {
     "name": "stdout",
     "output_type": "stream",
     "text": [
      "|Sun\t|Mon\t|Tue\t|Wed\t|Thu\t|Fri\t|Sat\t|\n",
      "|\t|\t|\t|\t|\t|1\t|2\t|\n",
      "|3\t|4\t|5\t|6\t|7\t|8\t|9\t|\n",
      "|10\t|11\t|12\t|13\t|14\t|15\t|16\t|\n",
      "|17\t|18\t|19\t|20\t|21\t|22\t|23\t|\n",
      "|24\t|25\t|26\t|27\t|28\t|29\t|30\t|\n"
     ]
    }
   ],
   "source": [
    "print_month_calendar(9,2023)"
   ]
  },
  {
   "cell_type": "code",
   "execution_count": 13,
   "metadata": {},
   "outputs": [],
   "source": [
    "def print_month_calendar(mm,yy):\n",
    "    start_day =  extra_days(1,mm,yy)\n",
    "    month_days = days_in_month(mm,yy) \n",
    "    i = 1\n",
    "    print('|',end='')\n",
    "    for x in range(7):\n",
    "        print(get_week_day_name(x)[0:3],end='\\t|')\n",
    "    \n",
    "    print('\\n','\\t'*start_day,end='')\n",
    "\n",
    "    while i<=month_days:\n",
    "        print(f'|{i}',end='\\t')\n",
    "        if((i+start_day)%7==0):\n",
    "            print('|')\n",
    "        i+=1\n",
    "\n",
    "    \n"
   ]
  },
  {
   "cell_type": "code",
   "execution_count": 222,
   "metadata": {},
   "outputs": [],
   "source": [
    "def print_month_calendar_vertical(mm,yy):\n",
    "    start_day =  extra_days(1,mm,yy)\n",
    "    print(start_day)\n",
    "    month_days = days_in_month(mm,yy) \n",
    "    i = 0\n",
    "\n",
    "    while i <7: \n",
    "        print(get_week_day_name(i)[0:3], end='\\t')\n",
    "        date = 7 + i - start_day + 1 \n",
    "\n",
    "        if(i>=start_day ):\n",
    "            date = i - start_day + 1\n",
    "            \n",
    "        else:\n",
    "            print(\"\\t\", end='')\n",
    "\n",
    "        while date<=month_days:\n",
    "\n",
    "            print(date, end=\"\\t\")\n",
    "            date += 7\n",
    "        print()\n",
    "        i+=1\n",
    "\n",
    "    \n"
   ]
  },
  {
   "cell_type": "code",
   "execution_count": 223,
   "metadata": {},
   "outputs": [
    {
     "name": "stdout",
     "output_type": "stream",
     "text": [
      "5\n",
      "Sun\t\t3\t10\t17\t24\t31\t\n",
      "Mon\t\t4\t11\t18\t25\t\n",
      "Tue\t\t5\t12\t19\t26\t\n",
      "Wed\t\t6\t13\t20\t27\t\n",
      "Thu\t\t7\t14\t21\t28\t\n",
      "Fri\t1\t8\t15\t22\t29\t\n",
      "Sat\t2\t9\t16\t23\t30\t\n"
     ]
    }
   ],
   "source": [
    "print_month_calendar_vertical(12,2023)"
   ]
  },
  {
   "cell_type": "markdown",
   "metadata": {},
   "source": []
  }
 ],
 "metadata": {
  "kernelspec": {
   "display_name": "Python 3",
   "language": "python",
   "name": "python3"
  },
  "language_info": {
   "codemirror_mode": {
    "name": "ipython",
    "version": 3
   },
   "file_extension": ".py",
   "mimetype": "text/x-python",
   "name": "python",
   "nbconvert_exporter": "python",
   "pygments_lexer": "ipython3",
   "version": "3.11.5"
  },
  "orig_nbformat": 4
 },
 "nbformat": 4,
 "nbformat_minor": 2
}
