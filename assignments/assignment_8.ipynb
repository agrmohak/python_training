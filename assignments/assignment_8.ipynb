{
 "cells": [
  {
   "cell_type": "code",
   "execution_count": 98,
   "metadata": {},
   "outputs": [],
   "source": [
    "class Node:\n",
    "    def __init__(self, value,next=None, previous=None):\n",
    "        self._value=value\n",
    "        self._next=next\n",
    "        self._previous=previous\n",
    "        \n",
    "class LinkedList:\n",
    "    def __init__(self):\n",
    "        self._first=None\n",
    "        self._tail = None\n",
    "\n",
    "    def append(self, value):\n",
    "        if self._first==None: # list is empty\n",
    "            self._first=Node(value)\n",
    "            self._tail = self._first\n",
    "        else: # add to the end of a non-empty list\n",
    "            new_node = Node(value, previous=self._tail)\n",
    "            self._tail._next = new_node\n",
    "            self._tail = new_node\n",
    "\n",
    "    def info(self):\n",
    "        if self._first==None: \n",
    "            return \"LinkedList(empty)\"\n",
    "        str=\"LinkedList(\\t\"\n",
    "        n=self._first\n",
    "        while n:\n",
    "            str+=f'{n._value}\\t'\n",
    "            n=n._next\n",
    "        str+=\")\"\n",
    "        return str\n",
    "\n",
    "    def __len__(self):\n",
    "        c=0\n",
    "        n=self._first\n",
    "        while n:\n",
    "            c+=1\n",
    "            n=n._next\n",
    "        return c\n",
    "    def get_node(list,index):\n",
    "        n=list._first\n",
    "        for i in range(index):\n",
    "            n=n._next\n",
    "            if n==None:\n",
    "                return None\n",
    "        else:\n",
    "            return n\n",
    "        \n",
    "    def get(list,index):\n",
    "       return list.get_node(index)._value\n",
    "\n",
    "    def set(list,index,value):\n",
    "        n = list.get_node(index)\n",
    "        if not n:\n",
    "            return\n",
    "        n._value=value\n",
    "\n",
    "    def insert(list, index, value):\n",
    "        if len(list)==index:\n",
    "            new_node = Node(value, previous=list._tail)\n",
    "            list._tail._next = new_node\n",
    "            list._tail = new_node\n",
    "            return\n",
    "        \n",
    "        y = list.get_node(index)\n",
    "        \n",
    "        if not y:\n",
    "            return\n",
    "\n",
    "        x=y._previous\n",
    "\n",
    "        new_node=Node(value,previous=x,next=y)\n",
    "        \n",
    "        if x:\n",
    "            x._next=new_node\n",
    "        else:\n",
    "            list._first=new_node\n",
    "\n",
    "        if y._next == None:\n",
    "            list._tail = new_node\n",
    "\n",
    "        y._previous=new_node\n",
    "\n",
    "    def remove(list, index):\n",
    "        n = list.get_node(index)\n",
    "        if not n:\n",
    "            return \n",
    "        \n",
    "        x= n._previous\n",
    "        y= n._next\n",
    "\n",
    "        if x:\n",
    "            x._next=y\n",
    "        else:\n",
    "            list._first=y\n",
    "\n",
    "        if y:\n",
    "            y._previous=x\n",
    "        else:\n",
    "            list._tail = x\n",
    "        return n._value\n",
    "    \n",
    "    def clear(self):\n",
    "        temp = self._first\n",
    "        while temp!=None:\n",
    "            self.remove(0)\n",
    "            temp = temp._next\n",
    "    def count(self, data):\n",
    "        temp = self._first\n",
    "        count = 0\n",
    "        while temp != None:\n",
    "            if(temp._value == data):\n",
    "                count += 1\n",
    "            temp = temp._value\n",
    "        return count\n",
    "    \n",
    "    def __str__(self):\n",
    "        output = '('\n",
    "        temp = self._first\n",
    "        while temp != None:\n",
    "            output += str(temp._value) + ','\n",
    "            temp = temp._next\n",
    "        output +=')'\n",
    "        return output\n",
    "\n",
    "    def __contains__(self, data):\n",
    "        temp = self._first\n",
    "        while temp != None:\n",
    "            if temp._value == data:\n",
    "                return True\n",
    "            temp = temp._next\n",
    "        return False\n",
    "\n",
    "        "
   ]
  },
  {
   "cell_type": "code",
   "execution_count": 99,
   "metadata": {},
   "outputs": [],
   "source": [
    "ll = LinkedList()\n",
    "for x in range(5):\n",
    "    ll.append(x)"
   ]
  },
  {
   "cell_type": "code",
   "execution_count": 100,
   "metadata": {},
   "outputs": [
    {
     "name": "stdout",
     "output_type": "stream",
     "text": [
      "LinkedList(\t0\t1\t2\t3\t4\t)\n"
     ]
    }
   ],
   "source": [
    "print(ll.info())\n"
   ]
  },
  {
   "cell_type": "code",
   "execution_count": 101,
   "metadata": {},
   "outputs": [
    {
     "data": {
      "text/plain": [
       "False"
      ]
     },
     "execution_count": 101,
     "metadata": {},
     "output_type": "execute_result"
    }
   ],
   "source": [
    "20 in ll"
   ]
  },
  {
   "cell_type": "code",
   "execution_count": 102,
   "metadata": {},
   "outputs": [],
   "source": [
    "ll.insert(5, 11)"
   ]
  },
  {
   "cell_type": "code",
   "execution_count": 103,
   "metadata": {},
   "outputs": [
    {
     "data": {
      "text/plain": [
       "6"
      ]
     },
     "execution_count": 103,
     "metadata": {},
     "output_type": "execute_result"
    }
   ],
   "source": [
    "len(ll)"
   ]
  },
  {
   "cell_type": "code",
   "execution_count": 87,
   "metadata": {},
   "outputs": [
    {
     "name": "stdout",
     "output_type": "stream",
     "text": [
      "(0,1,2,3,4,11,)\n"
     ]
    }
   ],
   "source": [
    "print(ll)"
   ]
  },
  {
   "cell_type": "code",
   "execution_count": 47,
   "metadata": {},
   "outputs": [],
   "source": [
    "l = []\n",
    "l.insert(1,0)"
   ]
  },
  {
   "cell_type": "code",
   "execution_count": 49,
   "metadata": {},
   "outputs": [],
   "source": [
    "l.insert(2,1)"
   ]
  },
  {
   "cell_type": "code",
   "execution_count": 50,
   "metadata": {},
   "outputs": [
    {
     "data": {
      "text/plain": [
       "[0, 1]"
      ]
     },
     "execution_count": 50,
     "metadata": {},
     "output_type": "execute_result"
    }
   ],
   "source": [
    "l"
   ]
  },
  {
   "cell_type": "code",
   "execution_count": null,
   "metadata": {},
   "outputs": [],
   "source": []
  }
 ],
 "metadata": {
  "kernelspec": {
   "display_name": "Python 3",
   "language": "python",
   "name": "python3"
  },
  "language_info": {
   "codemirror_mode": {
    "name": "ipython",
    "version": 3
   },
   "file_extension": ".py",
   "mimetype": "text/x-python",
   "name": "python",
   "nbconvert_exporter": "python",
   "pygments_lexer": "ipython3",
   "version": "3.11.5"
  },
  "orig_nbformat": 4
 },
 "nbformat": 4,
 "nbformat_minor": 2
}
