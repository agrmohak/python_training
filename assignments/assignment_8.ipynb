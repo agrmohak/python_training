{
 "cells": [
  {
   "cell_type": "code",
   "execution_count": 81,
   "metadata": {},
   "outputs": [],
   "source": [
    "class Node:\n",
    "    def __init__(self, data=None, prev = None):\n",
    "        self._value = data\n",
    "        self._next = None \n",
    "        self._prev = prev\n",
    "\n",
    "\n",
    "class LinkedList:\n",
    "    def __init__(self):\n",
    "        self._first=None\n",
    "\n",
    "    def append(self, value):\n",
    "        if self._first==None: # list is empty\n",
    "            self._first=Node(value)\n",
    "        else: # add to the end of a non-empty list\n",
    "            n=self._first\n",
    "            while n._next:\n",
    "                n=n._next\n",
    "            n._next=Node(value, prev=n)\n",
    "\n",
    "    def info(self):\n",
    "        if self._first==None: \n",
    "            return \"LinkedList(empty)\"\n",
    "        str=\"LinkedList(\\t\"\n",
    "        n=self._first\n",
    "        while n:\n",
    "            str+=f'{n._value}\\t'\n",
    "            n=n._next\n",
    "        str+=\")\"\n",
    "        return str\n",
    "\n",
    "    def size(self):\n",
    "        c=0\n",
    "        n=self._first\n",
    "        while n:\n",
    "            c+=1\n",
    "            n=n._next\n",
    "        return c\n",
    "    def insert(self, index, value):\n",
    "        if(index == 0):\n",
    "            temp = self._first\n",
    "            self._first = Node(value, prev=None)\n",
    "            self._first._next = temp \n",
    "\n",
    "        else:\n",
    "\n",
    "            temp = self._first\n",
    "            count = 0\n",
    "            while temp != None and count<index:\n",
    "                if(count==index -1):\n",
    "                    break\n",
    "                count+=1\n",
    "                temp = temp._next\n",
    "            print(temp._value)\n",
    "            n = Node(value, prev = temp)\n",
    "            n._next = temp._next\n",
    "            temp._next = n\n",
    "            \n",
    "    def remove(self, index):\n",
    "        temp = self._first\n",
    "        count = 0\n",
    "        while temp != None and count<=index:\n",
    "            if(count==index):\n",
    "                break\n",
    "            count+=1\n",
    "            temp = temp._next\n",
    "        temp1 = temp._next\n",
    "        temp._next = temp._prev\n",
    "        temp._prev = temp1\n",
    "        \n"
   ]
  },
  {
   "cell_type": "code",
   "execution_count": 82,
   "metadata": {},
   "outputs": [
    {
     "name": "stdout",
     "output_type": "stream",
     "text": [
      "LinkedList(empty)\n"
     ]
    }
   ],
   "source": [
    "l1 = LinkedList()\n",
    "\n",
    "print(l1.info())"
   ]
  },
  {
   "cell_type": "code",
   "execution_count": 83,
   "metadata": {},
   "outputs": [
    {
     "name": "stdout",
     "output_type": "stream",
     "text": [
      "size 5\n",
      "LinkedList(\t2\t3\t9\t2\t6\t)\n"
     ]
    }
   ],
   "source": [
    "for value in [2,3,9,2,6]:\n",
    "    l1.append(value)\n",
    "\n",
    "print('size', l1.size())\n",
    "print(l1.info())"
   ]
  },
  {
   "cell_type": "code",
   "execution_count": 84,
   "metadata": {},
   "outputs": [
    {
     "name": "stdout",
     "output_type": "stream",
     "text": [
      "LinkedList(\t10\t2\t3\t9\t2\t6\t)\n"
     ]
    }
   ],
   "source": [
    "l1.insert(0, 10)\n",
    "print(l1.info())"
   ]
  },
  {
   "cell_type": "code",
   "execution_count": 80,
   "metadata": {},
   "outputs": [
    {
     "name": "stdout",
     "output_type": "stream",
     "text": [
      "10\n",
      "10 20 2\n",
      "LinkedList(\t10\t20\t2\t3\t9\t2\t6\t)\n"
     ]
    }
   ],
   "source": [
    "l1.insert(1, 20)\n",
    "print(l1.info())"
   ]
  },
  {
   "cell_type": "code",
   "execution_count": 86,
   "metadata": {},
   "outputs": [
    {
     "name": "stdout",
     "output_type": "stream",
     "text": [
      "LinkedList(\t10\t2\t3\t9\t2\t6\t)\n"
     ]
    }
   ],
   "source": [
    "l1.remove(1)\n",
    "print(l1.info())"
   ]
  },
  {
   "cell_type": "code",
   "execution_count": 88,
   "metadata": {},
   "outputs": [],
   "source": [
    "class Node:\n",
    "    def __init__(self, value,next=None, previous=None):\n",
    "        self._value=value\n",
    "        self._next=next\n",
    "        self._previous=previous\n",
    "        \n",
    "class LinkedList:\n",
    "    def __init__(self):\n",
    "        self._first=None\n",
    "\n",
    "    def append(self, value):\n",
    "        if self._first==None: # list is empty\n",
    "            self._first=Node(value)\n",
    "        else: # add to the end of a non-empty list\n",
    "            n=self._first\n",
    "            while n._next:\n",
    "                n=n._next\n",
    "            n._next=Node(value, previous=n)\n",
    "\n",
    "    def info(self):\n",
    "        if self._first==None: \n",
    "            return \"LinkedList(empty)\"\n",
    "        str=\"LinkedList(\\t\"\n",
    "        n=self._first\n",
    "        while n:\n",
    "            str+=f'{n._value}\\t'\n",
    "            n=n._next\n",
    "        str+=\")\"\n",
    "        return str\n",
    "\n",
    "    def size(self):\n",
    "        c=0\n",
    "        n=self._first\n",
    "        while n:\n",
    "            c+=1\n",
    "            n=n._next\n",
    "        return c\n",
    "    def get_node(list,index):\n",
    "        n=list._first\n",
    "        for i in range(index):\n",
    "            n=n._next\n",
    "            if n==None:\n",
    "                return None\n",
    "        else:\n",
    "            return n\n",
    "        \n",
    "    def get(list,index):\n",
    "       return list.get_node(index)._value\n",
    "\n",
    "    def set(list,index,value):\n",
    "        n = list.get_node(index)\n",
    "        if not n:\n",
    "            return\n",
    "        n._value=value\n",
    "\n",
    "    def insert(list, index, value):\n",
    "        y = list.get_node(index)\n",
    "\n",
    "        if not y:\n",
    "            return\n",
    "\n",
    "        x=y._previous\n",
    "\n",
    "        new_node=Node(value,previous=x,next=y)\n",
    "        \n",
    "        if x:\n",
    "            x._next=new_node\n",
    "        else:\n",
    "            list._first=new_node\n",
    "\n",
    "        y._previous=new_node\n",
    "\n",
    "    def remove(list, index):\n",
    "        n = list.get_node(index)\n",
    "        if not n:\n",
    "            return \n",
    "        \n",
    "        x= n._previous\n",
    "        y= n._next\n",
    "\n",
    "        if x:\n",
    "            x._next=y\n",
    "        else:\n",
    "            list._first=y\n",
    "\n",
    "        if y:\n",
    "            y._previous=x\n",
    "        return n._value"
   ]
  },
  {
   "cell_type": "code",
   "execution_count": null,
   "metadata": {},
   "outputs": [],
   "source": []
  }
 ],
 "metadata": {
  "kernelspec": {
   "display_name": "Python 3",
   "language": "python",
   "name": "python3"
  },
  "language_info": {
   "codemirror_mode": {
    "name": "ipython",
    "version": 3
   },
   "file_extension": ".py",
   "mimetype": "text/x-python",
   "name": "python",
   "nbconvert_exporter": "python",
   "pygments_lexer": "ipython3",
   "version": "3.11.5"
  },
  "orig_nbformat": 4
 },
 "nbformat": 4,
 "nbformat_minor": 2
}
