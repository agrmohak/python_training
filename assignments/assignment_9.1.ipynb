{
 "cells": [
  {
   "cell_type": "code",
   "execution_count": 1,
   "metadata": {},
   "outputs": [],
   "source": [
    "from linked_list import LinkedList\n",
    "\n",
    "def check_prime(num):\n",
    "    if(num==1):\n",
    "        return False\n",
    "    \n",
    "    for x in range(2,num//2+1):\n",
    "        if(num%x==0):\n",
    "            return False\n",
    "    return True\n",
    "\n",
    "def find_primes(self):\n",
    "    temp = self._LinkedList__head\n",
    "    while temp!=None:\n",
    "        if(check_prime(temp.data)):\n",
    "            print(temp.data)\n",
    "        temp = temp.next\n",
    "\n",
    "\n",
    "def find_evens(self):\n",
    "    temp = self._LinkedList__head\n",
    "    while temp!=None:\n",
    "        if ((temp.data) % 2 ==0):\n",
    "            print(temp.data)\n",
    "        temp = temp.next\n",
    "\n",
    "LinkedList.find_primes = find_primes\n",
    "LinkedList.find_evens = find_evens\n"
   ]
  },
  {
   "cell_type": "code",
   "execution_count": 2,
   "metadata": {},
   "outputs": [],
   "source": [
    "for x in range(500):\n",
    "    ll.append(x)"
   ]
  },
  {
   "cell_type": "code",
   "execution_count": 3,
   "metadata": {},
   "outputs": [
    {
     "name": "stdout",
     "output_type": "stream",
     "text": [
      "(0,1,2,3,4,5,6,7,8,9,10,11,12,13,14,15,16,17,18,19,20,21,22,23,24,25,26,27,28,29,30,31,32,33,34,35,36,37,38,39,40,41,42,43,44,45,46,47,48,49,50,51,52,53,54,55,56,57,58,59,60,61,62,63,64,65,66,67,68,69,70,71,72,73,74,75,76,77,78,79,80,81,82,83,84,85,86,87,88,89,90,91,92,93,94,95,96,97,98,99,100,101,102,103,104,105,106,107,108,109,110,111,112,113,114,115,116,117,118,119,120,121,122,123,124,125,126,127,128,129,130,131,132,133,134,135,136,137,138,139,140,141,142,143,144,145,146,147,148,149,150,151,152,153,154,155,156,157,158,159,160,161,162,163,164,165,166,167,168,169,170,171,172,173,174,175,176,177,178,179,180,181,182,183,184,185,186,187,188,189,190,191,192,193,194,195,196,197,198,199,200,201,202,203,204,205,206,207,208,209,210,211,212,213,214,215,216,217,218,219,220,221,222,223,224,225,226,227,228,229,230,231,232,233,234,235,236,237,238,239,240,241,242,243,244,245,246,247,248,249,250,251,252,253,254,255,256,257,258,259,260,261,262,263,264,265,266,267,268,269,270,271,272,273,274,275,276,277,278,279,280,281,282,283,284,285,286,287,288,289,290,291,292,293,294,295,296,297,298,299,300,301,302,303,304,305,306,307,308,309,310,311,312,313,314,315,316,317,318,319,320,321,322,323,324,325,326,327,328,329,330,331,332,333,334,335,336,337,338,339,340,341,342,343,344,345,346,347,348,349,350,351,352,353,354,355,356,357,358,359,360,361,362,363,364,365,366,367,368,369,370,371,372,373,374,375,376,377,378,379,380,381,382,383,384,385,386,387,388,389,390,391,392,393,394,395,396,397,398,399,400,401,402,403,404,405,406,407,408,409,410,411,412,413,414,415,416,417,418,419,420,421,422,423,424,425,426,427,428,429,430,431,432,433,434,435,436,437,438,439,440,441,442,443,444,445,446,447,448,449,450,451,452,453,454,455,456,457,458,459,460,461,462,463,464,465,466,467,468,469,470,471,472,473,474,475,476,477,478,479,480,481,482,483,484,485,486,487,488,489,490,491,492,493,494,495,496,497,498,499,)\n"
     ]
    }
   ],
   "source": [
    "print(ll)"
   ]
  },
  {
   "cell_type": "code",
   "execution_count": null,
   "metadata": {},
   "outputs": [],
   "source": [
    "ll.find_primes()"
   ]
  },
  {
   "cell_type": "code",
   "execution_count": 26,
   "metadata": {},
   "outputs": [],
   "source": [
    "class Book:\n",
    "    def __init__(self, id, title, author, price, rating):\n",
    "        self._id = id\n",
    "        self.title = title\n",
    "        self.author = author\n",
    "        self.price = price\n",
    "        self.rating = rating\n",
    "\n",
    "    def __str__(self):\n",
    "        return f'ID : {self._id}\\nTitle: {self.title}\\nAuthor : {self.author}\\nPrice : {self.price}\\nRating : {self.rating}'\n",
    "\n",
    "    def __repr__(self):\n",
    "        return f'Book({self._id},{self.title})'\n",
    "\n",
    "class Books:\n",
    "    def __init__(self):\n",
    "        self._books = []\n",
    "\n",
    "    def __str__(self):\n",
    "        output = '('\n",
    "        for x in self._books:\n",
    "            output += f'({x._id}, {x.title})'\n",
    "        output+=')'\n",
    "        return output\n",
    "    def add(self, id, title, author, price, rating ):\n",
    "        self._books.append(Book(id, title, author, price, rating))\n",
    "        \n",
    "    def find_book_by_id(self, id):\n",
    "        for book in self._books:\n",
    "            if book._id == id:\n",
    "                return book\n",
    "        return None\n",
    "\n",
    "    def find_books_by_rating_range(self, low, high):\n",
    "        res = []\n",
    "        for book in self._books:\n",
    "            if book.rating>=low and book.rating<=high:\n",
    "                res.append(book)\n",
    "        return res\n",
    "\n",
    "    def find_books_by_price_range(self, low, high):\n",
    "        res = []\n",
    "        for book in self._books:\n",
    "            if book.price>=low and book.price<=high:\n",
    "                res.append(book)\n",
    "        return res\n",
    "\n",
    "    def find_books_by_author(self, author):\n",
    "        res = []\n",
    "        for book in self._books:\n",
    "            if book.author == author:\n",
    "                res.append(book)\n",
    "        return res\n",
    "        \n",
    "    "
   ]
  },
  {
   "cell_type": "code",
   "execution_count": 27,
   "metadata": {},
   "outputs": [],
   "source": [
    "books = Books()\n",
    "\n",
    "books.add(1, 'The immortals of meluha', 'Amish', 499,4.8)\n",
    "books.add(2, 'Nagas', 'Amish', 599 ,4.5)\n",
    "books.add(3, 'The oath of vayuputras', 'Amish', 599, 4.7)\n",
    "books.add(4, 'Ram', 'Amish', 299, 4.3)\n",
    "books.add(5, 'Sita', 'Amish', 399,4.8)\n",
    "books.add(6, 'Ravan', 'Amish', 499,4.5)\n",
    "\n"
   ]
  },
  {
   "cell_type": "code",
   "execution_count": 28,
   "metadata": {},
   "outputs": [
    {
     "name": "stdout",
     "output_type": "stream",
     "text": [
      "((1, The immortals of meluha)(2, Nagas)(3, The oath of vayuputras)(4, Ram)(5, Sita)(6, Ravan))\n"
     ]
    }
   ],
   "source": [
    "print(books)"
   ]
  },
  {
   "cell_type": "code",
   "execution_count": 29,
   "metadata": {},
   "outputs": [
    {
     "data": {
      "text/plain": [
       "Book(1,The immortals of meluha)"
      ]
     },
     "execution_count": 29,
     "metadata": {},
     "output_type": "execute_result"
    }
   ],
   "source": [
    "books.find_book_by_id(1)"
   ]
  },
  {
   "cell_type": "code",
   "execution_count": 31,
   "metadata": {},
   "outputs": [
    {
     "data": {
      "text/plain": [
       "[Book(1,The immortals of meluha),\n",
       " Book(2,Nagas),\n",
       " Book(3,The oath of vayuputras),\n",
       " Book(4,Ram),\n",
       " Book(5,Sita),\n",
       " Book(6,Ravan)]"
      ]
     },
     "execution_count": 31,
     "metadata": {},
     "output_type": "execute_result"
    }
   ],
   "source": [
    "books.find_books_by_author('Amish')"
   ]
  },
  {
   "cell_type": "code",
   "execution_count": 32,
   "metadata": {},
   "outputs": [
    {
     "data": {
      "text/plain": [
       "[Book(1,The immortals of meluha), Book(4,Ram), Book(5,Sita), Book(6,Ravan)]"
      ]
     },
     "execution_count": 32,
     "metadata": {},
     "output_type": "execute_result"
    }
   ],
   "source": [
    "books.find_books_by_price_range(299,499)"
   ]
  },
  {
   "cell_type": "code",
   "execution_count": 33,
   "metadata": {},
   "outputs": [
    {
     "data": {
      "text/plain": [
       "[Book(2,Nagas), Book(4,Ram), Book(6,Ravan)]"
      ]
     },
     "execution_count": 33,
     "metadata": {},
     "output_type": "execute_result"
    }
   ],
   "source": [
    "books.find_books_by_rating_range(4.3,4.5)\n"
   ]
  },
  {
   "cell_type": "code",
   "execution_count": 11,
   "metadata": {},
   "outputs": [],
   "source": [
    "from doubly_linked_list import LinkedList\n",
    "\n",
    "def list_sort(self):\n",
    "\n",
    "    swapped = 0\n",
    "\n",
    "    lptr = None;\n",
    "\n",
    "    if (self._first == None):\n",
    "\n",
    "        return;\n",
    "\n",
    "     \n",
    "\n",
    "    while True:\n",
    "\n",
    "        swapped = 0;\n",
    "\n",
    "        ptr1 = self._first;  \n",
    "\n",
    "        while (ptr1._next != lptr):      \n",
    "\n",
    "            if (ptr1._value > ptr1._next._value):          \n",
    "\n",
    "                ptr1._value, ptr1._next._value = ptr1._next._value, ptr1._value\n",
    "\n",
    "                swapped = 1;      \n",
    "\n",
    "            ptr1 = ptr1._next;      \n",
    "\n",
    "        lptr = ptr1;    \n",
    "\n",
    "        if swapped == 0:\n",
    "\n",
    "            break\n",
    "\n",
    "LinkedList.sort = list_sort"
   ]
  },
  {
   "cell_type": "code",
   "execution_count": 12,
   "metadata": {},
   "outputs": [],
   "source": [
    "ll = LinkedList()\n",
    "\n",
    "for x in [64, 34, 25, 12, 22, 11, 90]:\n",
    "    ll.append(x)\n",
    "\n",
    "ll.sort()"
   ]
  },
  {
   "cell_type": "code",
   "execution_count": 14,
   "metadata": {},
   "outputs": [
    {
     "name": "stdout",
     "output_type": "stream",
     "text": [
      "(11,12,22,25,34,64,90,)\n"
     ]
    }
   ],
   "source": [
    "print(ll)"
   ]
  }
 ],
 "metadata": {
  "kernelspec": {
   "display_name": "Python 3",
   "language": "python",
   "name": "python3"
  },
  "language_info": {
   "codemirror_mode": {
    "name": "ipython",
    "version": 3
   },
   "file_extension": ".py",
   "mimetype": "text/x-python",
   "name": "python",
   "nbconvert_exporter": "python",
   "pygments_lexer": "ipython3",
   "version": "3.11.5"
  },
  "orig_nbformat": 4
 },
 "nbformat": 4,
 "nbformat_minor": 2
}
