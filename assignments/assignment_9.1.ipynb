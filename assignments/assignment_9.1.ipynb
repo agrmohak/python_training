{
 "cells": [
  {
   "cell_type": "code",
   "execution_count": 1,
   "metadata": {},
   "outputs": [],
   "source": [
    "from doubly_linked_list import LinkedList\n",
    "\n",
    "def check_prime(num):\n",
    "    if(num==1):\n",
    "        return False\n",
    "    \n",
    "    for x in range(2,num//2+1):\n",
    "        if(num%x==0):\n",
    "            return False\n",
    "    return True\n",
    "\n",
    "def find_primes(self):\n",
    "    temp = self._first\n",
    "    res = LinkedList()\n",
    "    while temp!=None:\n",
    "        if(check_prime(temp._value)):\n",
    "            res.append(temp._value)\n",
    "        temp = temp._next\n",
    "    return res\n",
    "\n",
    "\n",
    "def find_evens(self):\n",
    "    temp = self._first\n",
    "    res = LinkedList()\n",
    "    while temp!=None:\n",
    "        if ((temp.data) % 2 ==0):\n",
    "            res.append(temp._value)\n",
    "        temp = temp._next\n",
    "    return res\n",
    "\n",
    "LinkedList.find_primes = find_primes\n",
    "LinkedList.find_evens = find_evens\n"
   ]
  },
  {
   "cell_type": "code",
   "execution_count": 2,
   "metadata": {},
   "outputs": [],
   "source": [
    "ll = LinkedList()\n",
    "for x in range(5):\n",
    "    ll.append(x)"
   ]
  },
  {
   "cell_type": "code",
   "execution_count": 3,
   "metadata": {},
   "outputs": [
    {
     "name": "stdout",
     "output_type": "stream",
     "text": [
      "0\n",
      "1\n",
      "2\n",
      "3\n",
      "4\n"
     ]
    }
   ],
   "source": [
    "for x in ll:\n",
    "    print(x)"
   ]
  },
  {
   "cell_type": "code",
   "execution_count": 12,
   "metadata": {},
   "outputs": [
    {
     "name": "stdout",
     "output_type": "stream",
     "text": [
      "(0, 2, 3)\n"
     ]
    }
   ],
   "source": [
    "print(ll.find_primes())"
   ]
  },
  {
   "cell_type": "code",
   "execution_count": 13,
   "metadata": {},
   "outputs": [],
   "source": [
    "class Book:\n",
    "    def __init__(self, id, title, author, price, rating):\n",
    "        self._id = id\n",
    "        self.title = title\n",
    "        self.author = author\n",
    "        self.price = price\n",
    "        self.rating = rating\n",
    "\n",
    "    def __str__(self):\n",
    "        return f'Book({self._id},{self.title})'\n",
    "\n",
    "    def __repr__(self):\n",
    "        return self.__str__()\n",
    "\n",
    "def find_book_by_id(books, id):\n",
    "    for book in books:\n",
    "        if book._id == id:\n",
    "            return book\n",
    "    return None\n",
    "\n",
    "def find_books_by_rating_range(books, low, high):\n",
    "    for book in books:\n",
    "        if book.rating>=low and book.rating<=high:\n",
    "            yield book\n",
    "\n",
    "def find_books_by_price_range(books, low, high):\n",
    "    for book in books:\n",
    "        if book.price>=low and book.price<=high:\n",
    "            yield book\n",
    "\n",
    "def find_books_by_author(books, author):\n",
    "    for book in books:\n",
    "        if book.author == author:\n",
    "            yield book\n",
    "        \n",
    "    "
   ]
  },
  {
   "cell_type": "code",
   "execution_count": 14,
   "metadata": {},
   "outputs": [],
   "source": [
    "books = LinkedList()\n",
    "\n",
    "books.append(Book(1, 'The immortals of meluha', 'Amish', 499,4.8))\n",
    "books.append(Book(2, 'Nagas', 'Amish', 599 ,4.5))\n",
    "books.append(Book(3, 'The oath of vayuputras', 'Amish', 599, 4.7))\n",
    "books.append(Book(4, 'Ram', 'Amish', 299, 4.3))\n",
    "books.append(Book(5, 'Sita', 'Amish', 399,4.8))\n",
    "books.append(Book(6, 'Ravan', 'Amish', 499,4.5))\n",
    "\n"
   ]
  },
  {
   "cell_type": "code",
   "execution_count": 15,
   "metadata": {},
   "outputs": [
    {
     "data": {
      "text/plain": [
       "[Book(1,The immortals of meluha), Book(2,Nagas), Book(3,The oath of vayuputras), Book(4,Ram), Book(5,Sita), Book(6,Ravan), ]"
      ]
     },
     "execution_count": 15,
     "metadata": {},
     "output_type": "execute_result"
    }
   ],
   "source": [
    "books"
   ]
  },
  {
   "cell_type": "code",
   "execution_count": 16,
   "metadata": {},
   "outputs": [
    {
     "data": {
      "text/plain": [
       "Book(1,The immortals of meluha)"
      ]
     },
     "execution_count": 16,
     "metadata": {},
     "output_type": "execute_result"
    }
   ],
   "source": [
    "find_book_by_id(books,1)"
   ]
  },
  {
   "cell_type": "code",
   "execution_count": 18,
   "metadata": {},
   "outputs": [
    {
     "name": "stdout",
     "output_type": "stream",
     "text": [
      "Book(1,The immortals of meluha)\n",
      "Book(2,Nagas)\n",
      "Book(3,The oath of vayuputras)\n",
      "Book(4,Ram)\n",
      "Book(5,Sita)\n",
      "Book(6,Ravan)\n"
     ]
    }
   ],
   "source": [
    "find_books_by_author(books, 'Amish')"
   ]
  },
  {
   "cell_type": "code",
   "execution_count": 7,
   "metadata": {},
   "outputs": [
    {
     "data": {
      "text/plain": [
       "[Book(1,The immortals of meluha), Book(4,Ram), Book(5,Sita), Book(6,Ravan)]"
      ]
     },
     "execution_count": 7,
     "metadata": {},
     "output_type": "execute_result"
    }
   ],
   "source": [
    "find_books_by_price_range(books,299,499)"
   ]
  },
  {
   "cell_type": "code",
   "execution_count": 8,
   "metadata": {},
   "outputs": [
    {
     "data": {
      "text/plain": [
       "[Book(2,Nagas), Book(4,Ram), Book(6,Ravan)]"
      ]
     },
     "execution_count": 8,
     "metadata": {},
     "output_type": "execute_result"
    }
   ],
   "source": [
    "find_books_by_rating_range(books, 4.3,4.5)\n"
   ]
  },
  {
   "cell_type": "code",
   "execution_count": 11,
   "metadata": {},
   "outputs": [],
   "source": [
    "from doubly_linked_list import LinkedList\n",
    "\n",
    "def list_sort(self):\n",
    "\n",
    "    swapped = 0\n",
    "\n",
    "    lptr = None;\n",
    "\n",
    "    if (self._first == None):\n",
    "\n",
    "        return;\n",
    "\n",
    "     \n",
    "\n",
    "    while True:\n",
    "\n",
    "        swapped = 0;\n",
    "\n",
    "        ptr1 = self._first;  \n",
    "\n",
    "        while (ptr1._next != lptr):      \n",
    "\n",
    "            if (ptr1._value > ptr1._next._value):          \n",
    "\n",
    "                ptr1._value, ptr1._next._value = ptr1._next._value, ptr1._value\n",
    "\n",
    "                swapped = 1;      \n",
    "\n",
    "            ptr1 = ptr1._next;      \n",
    "\n",
    "        lptr = ptr1;    \n",
    "\n",
    "        if swapped == 0:\n",
    "\n",
    "            break\n",
    "\n",
    "LinkedList.sort = list_sort"
   ]
  },
  {
   "cell_type": "code",
   "execution_count": 12,
   "metadata": {},
   "outputs": [],
   "source": [
    "ll = LinkedList()\n",
    "\n",
    "for x in [64, 34, 25, 12, 22, 11, 90]:\n",
    "    ll.append(x)\n",
    "\n",
    "ll.sort()"
   ]
  },
  {
   "cell_type": "code",
   "execution_count": 14,
   "metadata": {},
   "outputs": [
    {
     "name": "stdout",
     "output_type": "stream",
     "text": [
      "(11,12,22,25,34,64,90,)\n"
     ]
    }
   ],
   "source": [
    "print(ll)"
   ]
  }
 ],
 "metadata": {
  "kernelspec": {
   "display_name": "Python 3",
   "language": "python",
   "name": "python3"
  },
  "language_info": {
   "codemirror_mode": {
    "name": "ipython",
    "version": 3
   },
   "file_extension": ".py",
   "mimetype": "text/x-python",
   "name": "python",
   "nbconvert_exporter": "python",
   "pygments_lexer": "ipython3",
   "version": "3.11.5"
  },
  "orig_nbformat": 4
 },
 "nbformat": 4,
 "nbformat_minor": 2
}
